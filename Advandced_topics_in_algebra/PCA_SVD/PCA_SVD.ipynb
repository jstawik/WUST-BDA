{
 "cells": [
  {
   "cell_type": "markdown",
   "metadata": {},
   "source": [
    "### Task 1 (continuation)\n",
    "##### Do the PCA analysis using    eigen(cov( X ))   and   svd(X), where X is the centered data matrix. Check that right singular vectors V are principal directions(eigenvectors of covariance matrix) and that singular values are related to the eigenvalues of covariance matrix via \u0001\u0002= \u0004\u0002\u0005/(n − 1) . If you have doubt read this13 again. Identify the principal values and vectors in the output of functions PCA() from FactoMineR, and built-in prcomp(), princomp()."
   ]
  },
  {
   "cell_type": "code",
   "execution_count": null,
   "metadata": {},
   "outputs": [],
   "source": [
    "b1 <- beaver1\n",
    "b2 <- beaver2\n",
    "b1 <- b1 - sapply(b1, mean)\n",
    "b2 <- b2 - sapply(b2, mean)"
   ]
  },
  {
   "cell_type": "code",
   "execution_count": null,
   "metadata": {},
   "outputs": [],
   "source": [
    "eigen(cov(b1))\n",
    "eigen(cov(b2))\n",
    "svd(b1)\n",
    "svd(b2)"
   ]
  },
  {
   "cell_type": "markdown",
   "metadata": {},
   "source": [
    "### Task 2  \n",
    "##### Read through this useful tutorial14 and just repeat the analysis. Do only the sections listed on whiteboard.\n",
    "### Task 2a*  \n",
    "##### Do task 2 for your dataset (with   ≥ 10 features/ variables). Select such a dataset, where you expect some correlations between its features.    "
   ]
  },
  {
   "cell_type": "code",
   "execution_count": null,
   "metadata": {},
   "outputs": [],
   "source": [
    "library(\"FactoMineR\")\n",
    "library(\"factoextra\")\n",
    "data <- read.csv(\"pokemon.csv\", header = TRUE)\n",
    "head(data)\n",
    "data.active <- data[, 5:13]\n",
    "data.active$Legendary <- as.integer(as.logical(data.active$Legendary))\n",
    "data.pca <- PCA(data.active, scale.unit = TRUE, ncp = 4, graph = TRUE)\n",
    "fviz_pca_var(data.pca, addlabels = TRUE, ylim = c(0, 50), ggtheme = theme_minimal())\n"
   ]
  },
  {
   "cell_type": "markdown",
   "metadata": {},
   "source": [
    "### Task 3\n",
    "##### Repeat the image compression by SVD presented in lab for your selected grayscale image. "
   ]
  },
  {
   "cell_type": "code",
   "execution_count": null,
   "metadata": {},
   "outputs": [],
   "source": [
    "library(\"pixmap\")\n",
    "img <- read.pnm(\"lena512.pgm\")\n",
    "# plot(img)\n",
    "mat <- matrix(img@grey, nrow = img@size[1], ncol = img@size[2])\n",
    "image(mat, col=gray.colors(255, start = 0.3, end = 0.9, gamma = 2.2))\n",
    "mat.svd <- svd(mat)\n",
    "mat.comp <- mat.svd$u[,1:64] %*% diag(mat.svd$d[1:64]) %*% t(mat.svd$v[,1:64])\n",
    "image(mat.comp, col=gray.colors(255, start = 0.3, end = 0.9, gamma = 2.2))\n",
    "image(mat-mat.comp, col=gray.colors(255, start = 0.3, end = 0.9, gamma = 2.2))"
   ]
  },
  {
   "cell_type": "code",
   "execution_count": null,
   "metadata": {},
   "outputs": [],
   "source": []
  }
 ],
 "metadata": {
  "kernelspec": {
   "display_name": "R",
   "language": "R",
   "name": "ir"
  },
  "language_info": {
   "codemirror_mode": "r",
   "file_extension": ".r",
   "mimetype": "text/x-r-source",
   "name": "R",
   "pygments_lexer": "r",
   "version": "3.5.2"
  }
 },
 "nbformat": 4,
 "nbformat_minor": 2
}
