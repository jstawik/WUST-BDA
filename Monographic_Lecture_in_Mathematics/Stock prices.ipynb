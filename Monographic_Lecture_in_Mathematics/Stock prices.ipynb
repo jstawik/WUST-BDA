{
 "cells": [
  {
   "cell_type": "code",
   "execution_count": 75,
   "metadata": {
    "ExecuteTime": {
     "end_time": "2020-04-30T16:18:04.749808Z",
     "start_time": "2020-04-30T16:18:04.745804Z"
    }
   },
   "outputs": [],
   "source": [
    "import numpy as np\n",
    "import pandas as pd\n",
    "import matplotlib.pyplot as plt\n",
    "import seaborn as sns\n",
    "import statsmodels.graphics.tsaplots as sgt\n",
    "import statsmodels.tsa.stattools as sts\n",
    "from statsmodels.tsa.arima_model import  ARMA\n",
    "from scipy.stats.distributions import chi2\n",
    "sns.set()"
   ]
  },
  {
   "cell_type": "code",
   "execution_count": 76,
   "metadata": {
    "ExecuteTime": {
     "end_time": "2020-04-30T16:18:04.921673Z",
     "start_time": "2020-04-30T16:18:04.895649Z"
    }
   },
   "outputs": [
    {
     "data": {
      "text/html": [
       "<div>\n",
       "<style scoped>\n",
       "    .dataframe tbody tr th:only-of-type {\n",
       "        vertical-align: middle;\n",
       "    }\n",
       "\n",
       "    .dataframe tbody tr th {\n",
       "        vertical-align: top;\n",
       "    }\n",
       "\n",
       "    .dataframe thead th {\n",
       "        text-align: right;\n",
       "    }\n",
       "</style>\n",
       "<table border=\"1\" class=\"dataframe\">\n",
       "  <thead>\n",
       "    <tr style=\"text-align: right;\">\n",
       "      <th></th>\n",
       "      <th>date</th>\n",
       "      <th>spx</th>\n",
       "      <th>dax</th>\n",
       "      <th>ftse</th>\n",
       "      <th>nikkei</th>\n",
       "    </tr>\n",
       "  </thead>\n",
       "  <tbody>\n",
       "    <tr>\n",
       "      <th>0</th>\n",
       "      <td>07/01/1994</td>\n",
       "      <td>469.90</td>\n",
       "      <td>2224.95</td>\n",
       "      <td>3445.98</td>\n",
       "      <td>18124.01</td>\n",
       "    </tr>\n",
       "    <tr>\n",
       "      <th>1</th>\n",
       "      <td>10/01/1994</td>\n",
       "      <td>475.27</td>\n",
       "      <td>2225.00</td>\n",
       "      <td>3440.58</td>\n",
       "      <td>18443.44</td>\n",
       "    </tr>\n",
       "    <tr>\n",
       "      <th>2</th>\n",
       "      <td>11/01/1994</td>\n",
       "      <td>474.13</td>\n",
       "      <td>2228.10</td>\n",
       "      <td>3413.77</td>\n",
       "      <td>18485.25</td>\n",
       "    </tr>\n",
       "    <tr>\n",
       "      <th>3</th>\n",
       "      <td>12/01/1994</td>\n",
       "      <td>474.17</td>\n",
       "      <td>2182.06</td>\n",
       "      <td>3372.02</td>\n",
       "      <td>18793.88</td>\n",
       "    </tr>\n",
       "    <tr>\n",
       "      <th>4</th>\n",
       "      <td>13/01/1994</td>\n",
       "      <td>472.47</td>\n",
       "      <td>2142.37</td>\n",
       "      <td>3360.01</td>\n",
       "      <td>18577.26</td>\n",
       "    </tr>\n",
       "  </tbody>\n",
       "</table>\n",
       "</div>"
      ],
      "text/plain": [
       "         date     spx      dax     ftse    nikkei\n",
       "0  07/01/1994  469.90  2224.95  3445.98  18124.01\n",
       "1  10/01/1994  475.27  2225.00  3440.58  18443.44\n",
       "2  11/01/1994  474.13  2228.10  3413.77  18485.25\n",
       "3  12/01/1994  474.17  2182.06  3372.02  18793.88\n",
       "4  13/01/1994  472.47  2142.37  3360.01  18577.26"
      ]
     },
     "execution_count": 76,
     "metadata": {},
     "output_type": "execute_result"
    }
   ],
   "source": [
    "raw_csv_data = pd.read_csv(\"Index2018.csv\")\n",
    "df_comp = raw_csv_data.copy()\n",
    "raw_csv_data.head()"
   ]
  },
  {
   "cell_type": "code",
   "execution_count": 77,
   "metadata": {
    "ExecuteTime": {
     "end_time": "2020-04-30T16:18:05.810160Z",
     "start_time": "2020-04-30T16:18:05.069510Z"
    }
   },
   "outputs": [],
   "source": [
    "df_comp.date = pd.to_datetime(df_comp.date, dayfirst=True)\n",
    "df_comp.set_index(\"date\", inplace=True)\n",
    "df_comp = df_comp.asfreq('b')\n",
    "df_comp = df_comp.fillna(method='ffill')"
   ]
  },
  {
   "cell_type": "code",
   "execution_count": 78,
   "metadata": {
    "ExecuteTime": {
     "end_time": "2020-04-30T16:18:05.822171Z",
     "start_time": "2020-04-30T16:18:05.811161Z"
    }
   },
   "outputs": [
    {
     "data": {
      "text/plain": [
       "(               spx      dax     ftse    nikkei\n",
       " date                                          \n",
       " 1994-01-07  469.90  2224.95  3445.98  18124.01\n",
       " 1994-01-10  475.27  2225.00  3440.58  18443.44\n",
       " 1994-01-11  474.13  2228.10  3413.77  18485.25\n",
       " 1994-01-12  474.17  2182.06  3372.02  18793.88\n",
       " 1994-01-13  472.47  2142.37  3360.01  18577.26,\n",
       "                     spx       dax         ftse    nikkei\n",
       " date                                                    \n",
       " 2018-01-23  2839.130362  13559.60  7731.827774  24124.15\n",
       " 2018-01-24  2837.544008  13414.74  7643.428966  23940.78\n",
       " 2018-01-25  2839.253031  13298.36  7615.839954  23669.49\n",
       " 2018-01-26  2872.867839  13340.17  7665.541292  23631.88\n",
       " 2018-01-29  2853.528411  13324.48  7671.533300  23629.34)"
      ]
     },
     "execution_count": 78,
     "metadata": {},
     "output_type": "execute_result"
    }
   ],
   "source": [
    "df_comp.head(), df_comp.tail()"
   ]
  },
  {
   "cell_type": "code",
   "execution_count": 79,
   "metadata": {
    "ExecuteTime": {
     "end_time": "2020-04-30T16:18:05.837184Z",
     "start_time": "2020-04-30T16:18:05.824173Z"
    }
   },
   "outputs": [
    {
     "data": {
      "text/plain": [
       "(            market_value\n",
       " date                    \n",
       " 1994-01-07       3445.98\n",
       " 1994-01-10       3440.58\n",
       " 1994-01-11       3413.77\n",
       " 1994-01-12       3372.02\n",
       " 1994-01-13       3360.01,             market_value\n",
       " date                    \n",
       " 2018-01-23   7731.827774\n",
       " 2018-01-24   7643.428966\n",
       " 2018-01-25   7615.839954\n",
       " 2018-01-26   7665.541292\n",
       " 2018-01-29   7671.533300)"
      ]
     },
     "execution_count": 79,
     "metadata": {},
     "output_type": "execute_result"
    }
   ],
   "source": [
    "df_comp['market_value']=df_comp.ftse\n",
    "df_comp = df_comp.drop(columns=['spx', 'dax', 'ftse', 'nikkei'])\n",
    "df_comp.head(), df_comp.tail()"
   ]
  },
  {
   "cell_type": "code",
   "execution_count": 80,
   "metadata": {
    "ExecuteTime": {
     "end_time": "2020-04-30T16:18:05.865470Z",
     "start_time": "2020-04-30T16:18:05.861205Z"
    }
   },
   "outputs": [],
   "source": [
    "size = int(len(df_comp)*0.8)\n",
    "df, df_test = df_comp.iloc[:size], df_comp.iloc[size:]"
   ]
  },
  {
   "cell_type": "code",
   "execution_count": 81,
   "metadata": {
    "ExecuteTime": {
     "end_time": "2020-04-30T16:18:06.190471Z",
     "start_time": "2020-04-30T16:18:06.034660Z"
    }
   },
   "outputs": [
    {
     "data": {
      "image/png": "[encoded data removed]",
      "text/plain": [
       "<Figure size 432x288 with 1 Axes>"
      ]
     },
     "metadata": {},
     "output_type": "display_data"
    }
   ],
   "source": [
    "sgt.plot_acf(df.market_value, zero=False, lags=40)\n",
    "plt.title(\"ACF for prices\", size=20);"
   ]
  },
  {
   "cell_type": "code",
   "execution_count": 82,
   "metadata": {
    "ExecuteTime": {
     "end_time": "2020-04-30T16:18:06.213491Z",
     "start_time": "2020-04-30T16:18:06.210489Z"
    }
   },
   "outputs": [],
   "source": [
    "import warnings\n",
    "warnings.filterwarnings(\"ignore\")"
   ]
  },
  {
   "cell_type": "code",
   "execution_count": 83,
   "metadata": {
    "ExecuteTime": {
     "end_time": "2020-04-30T16:18:06.564602Z",
     "start_time": "2020-04-30T16:18:06.334283Z"
    }
   },
   "outputs": [
    {
     "data": {
      "image/png": "[encoded data removed]",
      "text/plain": [
       "<Figure size 432x288 with 1 Axes>"
      ]
     },
     "metadata": {},
     "output_type": "display_data"
    }
   ],
   "source": [
    "sgt.plot_pacf(df.market_value, zero=False, lags=40, alpha=0.1, method='ols')\n",
    "plt.title(\"PACF for prices\", size=20);"
   ]
  },
  {
   "cell_type": "markdown",
   "metadata": {},
   "source": [
    "First considered model:\n",
    "$$\n",
    "p(n+1) = c + \\phi * p(n) + \\xi\n",
    "$$\n",
    "where &phi; is parameter, &xi; is noise/residual/shock"
   ]
  },
  {
   "cell_type": "code",
   "execution_count": 91,
   "metadata": {
    "ExecuteTime": {
     "end_time": "2020-04-30T16:18:21.654944Z",
     "start_time": "2020-04-30T16:18:21.446691Z"
    }
   },
   "outputs": [
    {
     "data": {
      "text/html": [
       "<table class=\"simpletable\">\n",
       "<caption>ARMA Model Results</caption>\n",
       "<tr>\n",
       "  <th>Dep. Variable:</th>   <td>market_value</td>   <th>  No. Observations:  </th>    <td>5021</td>   \n",
       "</tr>\n",
       "<tr>\n",
       "  <th>Model:</th>            <td>ARMA(1, 0)</td>    <th>  Log Likelihood     </th> <td>-27622.599</td>\n",
       "</tr>\n",
       "<tr>\n",
       "  <th>Method:</th>             <td>css-mle</td>     <th>  S.D. of innovations</th>   <td>59.258</td>  \n",
       "</tr>\n",
       "<tr>\n",
       "  <th>Date:</th>          <td>Thu, 30 Apr 2020</td> <th>  AIC                </th>  <td>55251.198</td>\n",
       "</tr>\n",
       "<tr>\n",
       "  <th>Time:</th>              <td>18:18:21</td>     <th>  BIC                </th>  <td>55270.762</td>\n",
       "</tr>\n",
       "<tr>\n",
       "  <th>Sample:</th>           <td>01-07-1994</td>    <th>  HQIC               </th>  <td>55258.054</td>\n",
       "</tr>\n",
       "<tr>\n",
       "  <th></th>                 <td>- 04-05-2013</td>   <th>                     </th>      <td> </td>    \n",
       "</tr>\n",
       "</table>\n",
       "<table class=\"simpletable\">\n",
       "<tr>\n",
       "           <td></td>             <th>coef</th>     <th>std err</th>      <th>z</th>      <th>P>|z|</th>  <th>[0.025</th>    <th>0.975]</th>  \n",
       "</tr>\n",
       "<tr>\n",
       "  <th>const</th>              <td> 5067.4707</td> <td>  486.503</td> <td>   10.416</td> <td> 0.000</td> <td> 4113.942</td> <td> 6021.000</td>\n",
       "</tr>\n",
       "<tr>\n",
       "  <th>ar.L1.market_value</th> <td>    0.9985</td> <td>    0.001</td> <td> 1298.545</td> <td> 0.000</td> <td>    0.997</td> <td>    1.000</td>\n",
       "</tr>\n",
       "</table>\n",
       "<table class=\"simpletable\">\n",
       "<caption>Roots</caption>\n",
       "<tr>\n",
       "    <td></td>   <th>            Real</th>  <th>         Imaginary</th> <th>         Modulus</th>  <th>        Frequency</th>\n",
       "</tr>\n",
       "<tr>\n",
       "  <th>AR.1</th> <td>           1.0015</td> <td>          +0.0000j</td> <td>           1.0015</td> <td>           0.0000</td>\n",
       "</tr>\n",
       "</table>"
      ],
      "text/plain": [
       "<class 'statsmodels.iolib.summary.Summary'>\n",
       "\"\"\"\n",
       "                              ARMA Model Results                              \n",
       "==============================================================================\n",
       "Dep. Variable:           market_value   No. Observations:                 5021\n",
       "Model:                     ARMA(1, 0)   Log Likelihood              -27622.599\n",
       "Method:                       css-mle   S.D. of innovations             59.258\n",
       "Date:                Thu, 30 Apr 2020   AIC                          55251.198\n",
       "Time:                        18:18:21   BIC                          55270.762\n",
       "Sample:                    01-07-1994   HQIC                         55258.054\n",
       "                         - 04-05-2013                                         \n",
       "======================================================================================\n",
       "                         coef    std err          z      P>|z|      [0.025      0.975]\n",
       "--------------------------------------------------------------------------------------\n",
       "const               5067.4707    486.503     10.416      0.000    4113.942    6021.000\n",
       "ar.L1.market_value     0.9985      0.001   1298.545      0.000       0.997       1.000\n",
       "                                    Roots                                    \n",
       "=============================================================================\n",
       "                  Real          Imaginary           Modulus         Frequency\n",
       "-----------------------------------------------------------------------------\n",
       "AR.1            1.0015           +0.0000j            1.0015            0.0000\n",
       "-----------------------------------------------------------------------------\n",
       "\"\"\""
      ]
     },
     "execution_count": 91,
     "metadata": {},
     "output_type": "execute_result"
    }
   ],
   "source": [
    "model_ar1=ARMA(df.market_value, order=(1,0)) # p(n+1) = c + phi * p(n) + ks\n",
    "results_ar1=model_ar1.fit()\n",
    "results_ar1.summary()"
   ]
  },
  {
   "cell_type": "markdown",
   "metadata": {},
   "source": [
    "Second considered model:\n",
    "$$\n",
    "p(n+2) = c + \\phi_1 * p(n+1) + \\phi_0 * p(n) + \\xi\n",
    "$$\n",
    "where &phi; is parameter, &xi; is noise/residual/shock"
   ]
  },
  {
   "cell_type": "code",
   "execution_count": 85,
   "metadata": {
    "ExecuteTime": {
     "end_time": "2020-04-30T16:18:08.808098Z",
     "start_time": "2020-04-30T16:18:08.526246Z"
    }
   },
   "outputs": [
    {
     "data": {
      "text/html": [
       "<table class=\"simpletable\">\n",
       "<caption>ARMA Model Results</caption>\n",
       "<tr>\n",
       "  <th>Dep. Variable:</th>   <td>market_value</td>   <th>  No. Observations:  </th>    <td>5021</td>   \n",
       "</tr>\n",
       "<tr>\n",
       "  <th>Model:</th>            <td>ARMA(2, 0)</td>    <th>  Log Likelihood     </th> <td>-27621.871</td>\n",
       "</tr>\n",
       "<tr>\n",
       "  <th>Method:</th>             <td>css-mle</td>     <th>  S.D. of innovations</th>   <td>59.249</td>  \n",
       "</tr>\n",
       "<tr>\n",
       "  <th>Date:</th>          <td>Thu, 30 Apr 2020</td> <th>  AIC                </th>  <td>55251.742</td>\n",
       "</tr>\n",
       "<tr>\n",
       "  <th>Time:</th>              <td>18:18:08</td>     <th>  BIC                </th>  <td>55277.827</td>\n",
       "</tr>\n",
       "<tr>\n",
       "  <th>Sample:</th>           <td>01-07-1994</td>    <th>  HQIC               </th>  <td>55260.883</td>\n",
       "</tr>\n",
       "<tr>\n",
       "  <th></th>                 <td>- 04-05-2013</td>   <th>                     </th>      <td> </td>    \n",
       "</tr>\n",
       "</table>\n",
       "<table class=\"simpletable\">\n",
       "<tr>\n",
       "           <td></td>             <th>coef</th>     <th>std err</th>      <th>z</th>      <th>P>|z|</th>  <th>[0.025</th>    <th>0.975]</th>  \n",
       "</tr>\n",
       "<tr>\n",
       "  <th>const</th>              <td> 5089.6411</td> <td>  495.670</td> <td>   10.268</td> <td> 0.000</td> <td> 4118.145</td> <td> 6061.137</td>\n",
       "</tr>\n",
       "<tr>\n",
       "  <th>ar.L1.market_value</th> <td>    0.9814</td> <td>    0.014</td> <td>   69.595</td> <td> 0.000</td> <td>    0.954</td> <td>    1.009</td>\n",
       "</tr>\n",
       "<tr>\n",
       "  <th>ar.L2.market_value</th> <td>    0.0171</td> <td>    0.014</td> <td>    1.211</td> <td> 0.226</td> <td>   -0.011</td> <td>    0.045</td>\n",
       "</tr>\n",
       "</table>\n",
       "<table class=\"simpletable\">\n",
       "<caption>Roots</caption>\n",
       "<tr>\n",
       "    <td></td>   <th>            Real</th>  <th>         Imaginary</th> <th>         Modulus</th>  <th>        Frequency</th>\n",
       "</tr>\n",
       "<tr>\n",
       "  <th>AR.1</th> <td>           1.0015</td> <td>          +0.0000j</td> <td>           1.0015</td> <td>           0.0000</td>\n",
       "</tr>\n",
       "<tr>\n",
       "  <th>AR.2</th> <td>         -58.4629</td> <td>          +0.0000j</td> <td>          58.4629</td> <td>           0.5000</td>\n",
       "</tr>\n",
       "</table>"
      ],
      "text/plain": [
       "<class 'statsmodels.iolib.summary.Summary'>\n",
       "\"\"\"\n",
       "                              ARMA Model Results                              \n",
       "==============================================================================\n",
       "Dep. Variable:           market_value   No. Observations:                 5021\n",
       "Model:                     ARMA(2, 0)   Log Likelihood              -27621.871\n",
       "Method:                       css-mle   S.D. of innovations             59.249\n",
       "Date:                Thu, 30 Apr 2020   AIC                          55251.742\n",
       "Time:                        18:18:08   BIC                          55277.827\n",
       "Sample:                    01-07-1994   HQIC                         55260.883\n",
       "                         - 04-05-2013                                         \n",
       "======================================================================================\n",
       "                         coef    std err          z      P>|z|      [0.025      0.975]\n",
       "--------------------------------------------------------------------------------------\n",
       "const               5089.6411    495.670     10.268      0.000    4118.145    6061.137\n",
       "ar.L1.market_value     0.9814      0.014     69.595      0.000       0.954       1.009\n",
       "ar.L2.market_value     0.0171      0.014      1.211      0.226      -0.011       0.045\n",
       "                                    Roots                                    \n",
       "=============================================================================\n",
       "                  Real          Imaginary           Modulus         Frequency\n",
       "-----------------------------------------------------------------------------\n",
       "AR.1            1.0015           +0.0000j            1.0015            0.0000\n",
       "AR.2          -58.4629           +0.0000j           58.4629            0.5000\n",
       "-----------------------------------------------------------------------------\n",
       "\"\"\""
      ]
     },
     "execution_count": 85,
     "metadata": {},
     "output_type": "execute_result"
    }
   ],
   "source": [
    "model_ar2=ARMA(df.market_value, order=(2,0)) \n",
    "results_ar2 = model_ar2.fit()\n",
    "results_ar2.summary()"
   ]
  },
  {
   "cell_type": "code",
   "execution_count": 86,
   "metadata": {
    "ExecuteTime": {
     "end_time": "2020-04-30T16:18:09.270991Z",
     "start_time": "2020-04-30T16:18:08.810100Z"
    }
   },
   "outputs": [
    {
     "data": {
      "text/html": [
       "<table class=\"simpletable\">\n",
       "<caption>ARMA Model Results</caption>\n",
       "<tr>\n",
       "  <th>Dep. Variable:</th>   <td>market_value</td>   <th>  No. Observations:  </th>    <td>5021</td>   \n",
       "</tr>\n",
       "<tr>\n",
       "  <th>Model:</th>            <td>ARMA(3, 0)</td>    <th>  Log Likelihood     </th> <td>-27615.871</td>\n",
       "</tr>\n",
       "<tr>\n",
       "  <th>Method:</th>             <td>css-mle</td>     <th>  S.D. of innovations</th>   <td>59.178</td>  \n",
       "</tr>\n",
       "<tr>\n",
       "  <th>Date:</th>          <td>Thu, 30 Apr 2020</td> <th>  AIC                </th>  <td>55241.742</td>\n",
       "</tr>\n",
       "<tr>\n",
       "  <th>Time:</th>              <td>18:18:09</td>     <th>  BIC                </th>  <td>55274.349</td>\n",
       "</tr>\n",
       "<tr>\n",
       "  <th>Sample:</th>           <td>01-07-1994</td>    <th>  HQIC               </th>  <td>55253.168</td>\n",
       "</tr>\n",
       "<tr>\n",
       "  <th></th>                 <td>- 04-05-2013</td>   <th>                     </th>      <td> </td>    \n",
       "</tr>\n",
       "</table>\n",
       "<table class=\"simpletable\">\n",
       "<tr>\n",
       "           <td></td>             <th>coef</th>     <th>std err</th>      <th>z</th>      <th>P>|z|</th>  <th>[0.025</th>    <th>0.975]</th>  \n",
       "</tr>\n",
       "<tr>\n",
       "  <th>const</th>              <td> 5089.6411</td> <td>  520.356</td> <td>    9.781</td> <td> 0.000</td> <td> 4069.761</td> <td> 6109.521</td>\n",
       "</tr>\n",
       "<tr>\n",
       "  <th>ar.L1.market_value</th> <td>    0.9806</td> <td>    0.014</td> <td>   69.619</td> <td> 0.000</td> <td>    0.953</td> <td>    1.008</td>\n",
       "</tr>\n",
       "<tr>\n",
       "  <th>ar.L2.market_value</th> <td>   -0.0309</td> <td>    0.020</td> <td>   -1.563</td> <td> 0.118</td> <td>   -0.070</td> <td>    0.008</td>\n",
       "</tr>\n",
       "<tr>\n",
       "  <th>ar.L3.market_value</th> <td>    0.0489</td> <td>    0.014</td> <td>    3.466</td> <td> 0.001</td> <td>    0.021</td> <td>    0.077</td>\n",
       "</tr>\n",
       "</table>\n",
       "<table class=\"simpletable\">\n",
       "<caption>Roots</caption>\n",
       "<tr>\n",
       "    <td></td>   <th>            Real</th>  <th>         Imaginary</th> <th>         Modulus</th>  <th>        Frequency</th>\n",
       "</tr>\n",
       "<tr>\n",
       "  <th>AR.1</th> <td>           1.0013</td> <td>          -0.0000j</td> <td>           1.0013</td> <td>          -0.0000</td>\n",
       "</tr>\n",
       "<tr>\n",
       "  <th>AR.2</th> <td>          -0.1850</td> <td>          -4.5161j</td> <td>           4.5199</td> <td>          -0.2565</td>\n",
       "</tr>\n",
       "<tr>\n",
       "  <th>AR.3</th> <td>          -0.1850</td> <td>          +4.5161j</td> <td>           4.5199</td> <td>           0.2565</td>\n",
       "</tr>\n",
       "</table>"
      ],
      "text/plain": [
       "<class 'statsmodels.iolib.summary.Summary'>\n",
       "\"\"\"\n",
       "                              ARMA Model Results                              \n",
       "==============================================================================\n",
       "Dep. Variable:           market_value   No. Observations:                 5021\n",
       "Model:                     ARMA(3, 0)   Log Likelihood              -27615.871\n",
       "Method:                       css-mle   S.D. of innovations             59.178\n",
       "Date:                Thu, 30 Apr 2020   AIC                          55241.742\n",
       "Time:                        18:18:09   BIC                          55274.349\n",
       "Sample:                    01-07-1994   HQIC                         55253.168\n",
       "                         - 04-05-2013                                         \n",
       "======================================================================================\n",
       "                         coef    std err          z      P>|z|      [0.025      0.975]\n",
       "--------------------------------------------------------------------------------------\n",
       "const               5089.6411    520.356      9.781      0.000    4069.761    6109.521\n",
       "ar.L1.market_value     0.9806      0.014     69.619      0.000       0.953       1.008\n",
       "ar.L2.market_value    -0.0309      0.020     -1.563      0.118      -0.070       0.008\n",
       "ar.L3.market_value     0.0489      0.014      3.466      0.001       0.021       0.077\n",
       "                                    Roots                                    \n",
       "=============================================================================\n",
       "                  Real          Imaginary           Modulus         Frequency\n",
       "-----------------------------------------------------------------------------\n",
       "AR.1            1.0013           -0.0000j            1.0013           -0.0000\n",
       "AR.2           -0.1850           -4.5161j            4.5199           -0.2565\n",
       "AR.3           -0.1850           +4.5161j            4.5199            0.2565\n",
       "-----------------------------------------------------------------------------\n",
       "\"\"\""
      ]
     },
     "execution_count": 86,
     "metadata": {},
     "output_type": "execute_result"
    }
   ],
   "source": [
    "model_ar3=ARMA(df.market_value, order=(3,0)) \n",
    "results_ar3 = model_ar3.fit()\n",
    "results_ar3.summary()"
   ]
  },
  {
   "cell_type": "code",
   "execution_count": 87,
   "metadata": {
    "ExecuteTime": {
     "end_time": "2020-04-30T16:18:09.718798Z",
     "start_time": "2020-04-30T16:18:09.272993Z"
    }
   },
   "outputs": [
    {
     "data": {
      "text/html": [
       "<table class=\"simpletable\">\n",
       "<caption>ARMA Model Results</caption>\n",
       "<tr>\n",
       "  <th>Dep. Variable:</th>   <td>market_value</td>   <th>  No. Observations:  </th>    <td>5021</td>   \n",
       "</tr>\n",
       "<tr>\n",
       "  <th>Model:</th>            <td>ARMA(4, 0)</td>    <th>  Log Likelihood     </th> <td>-27602.565</td>\n",
       "</tr>\n",
       "<tr>\n",
       "  <th>Method:</th>             <td>css-mle</td>     <th>  S.D. of innovations</th>   <td>59.022</td>  \n",
       "</tr>\n",
       "<tr>\n",
       "  <th>Date:</th>          <td>Thu, 30 Apr 2020</td> <th>  AIC                </th>  <td>55217.130</td>\n",
       "</tr>\n",
       "<tr>\n",
       "  <th>Time:</th>              <td>18:18:09</td>     <th>  BIC                </th>  <td>55256.258</td>\n",
       "</tr>\n",
       "<tr>\n",
       "  <th>Sample:</th>           <td>01-07-1994</td>    <th>  HQIC               </th>  <td>55230.841</td>\n",
       "</tr>\n",
       "<tr>\n",
       "  <th></th>                 <td>- 04-05-2013</td>   <th>                     </th>      <td> </td>    \n",
       "</tr>\n",
       "</table>\n",
       "<table class=\"simpletable\">\n",
       "<tr>\n",
       "           <td></td>             <th>coef</th>     <th>std err</th>      <th>z</th>      <th>P>|z|</th>  <th>[0.025</th>    <th>0.975]</th>  \n",
       "</tr>\n",
       "<tr>\n",
       "  <th>const</th>              <td> 5089.6413</td> <td>  560.015</td> <td>    9.088</td> <td> 0.000</td> <td> 3992.032</td> <td> 6187.250</td>\n",
       "</tr>\n",
       "<tr>\n",
       "  <th>ar.L1.market_value</th> <td>    0.9770</td> <td>    0.014</td> <td>   69.492</td> <td> 0.000</td> <td>    0.949</td> <td>    1.005</td>\n",
       "</tr>\n",
       "<tr>\n",
       "  <th>ar.L2.market_value</th> <td>   -0.0286</td> <td>    0.020</td> <td>   -1.455</td> <td> 0.146</td> <td>   -0.067</td> <td>    0.010</td>\n",
       "</tr>\n",
       "<tr>\n",
       "  <th>ar.L3.market_value</th> <td>   -0.0224</td> <td>    0.020</td> <td>   -1.135</td> <td> 0.256</td> <td>   -0.061</td> <td>    0.016</td>\n",
       "</tr>\n",
       "<tr>\n",
       "  <th>ar.L4.market_value</th> <td>    0.0728</td> <td>    0.014</td> <td>    5.166</td> <td> 0.000</td> <td>    0.045</td> <td>    0.100</td>\n",
       "</tr>\n",
       "</table>\n",
       "<table class=\"simpletable\">\n",
       "<caption>Roots</caption>\n",
       "<tr>\n",
       "    <td></td>   <th>            Real</th>  <th>         Imaginary</th> <th>         Modulus</th>  <th>        Frequency</th>\n",
       "</tr>\n",
       "<tr>\n",
       "  <th>AR.1</th> <td>           1.0011</td> <td>          -0.0000j</td> <td>           1.0011</td> <td>          -0.0000</td>\n",
       "</tr>\n",
       "<tr>\n",
       "  <th>AR.2</th> <td>           0.9550</td> <td>          -2.0884j</td> <td>           2.2964</td> <td>          -0.1817</td>\n",
       "</tr>\n",
       "<tr>\n",
       "  <th>AR.3</th> <td>           0.9550</td> <td>          +2.0884j</td> <td>           2.2964</td> <td>           0.1817</td>\n",
       "</tr>\n",
       "<tr>\n",
       "  <th>AR.4</th> <td>          -2.6036</td> <td>          -0.0000j</td> <td>           2.6036</td> <td>          -0.5000</td>\n",
       "</tr>\n",
       "</table>"
      ],
      "text/plain": [
       "<class 'statsmodels.iolib.summary.Summary'>\n",
       "\"\"\"\n",
       "                              ARMA Model Results                              \n",
       "==============================================================================\n",
       "Dep. Variable:           market_value   No. Observations:                 5021\n",
       "Model:                     ARMA(4, 0)   Log Likelihood              -27602.565\n",
       "Method:                       css-mle   S.D. of innovations             59.022\n",
       "Date:                Thu, 30 Apr 2020   AIC                          55217.130\n",
       "Time:                        18:18:09   BIC                          55256.258\n",
       "Sample:                    01-07-1994   HQIC                         55230.841\n",
       "                         - 04-05-2013                                         \n",
       "======================================================================================\n",
       "                         coef    std err          z      P>|z|      [0.025      0.975]\n",
       "--------------------------------------------------------------------------------------\n",
       "const               5089.6413    560.015      9.088      0.000    3992.032    6187.250\n",
       "ar.L1.market_value     0.9770      0.014     69.492      0.000       0.949       1.005\n",
       "ar.L2.market_value    -0.0286      0.020     -1.455      0.146      -0.067       0.010\n",
       "ar.L3.market_value    -0.0224      0.020     -1.135      0.256      -0.061       0.016\n",
       "ar.L4.market_value     0.0728      0.014      5.166      0.000       0.045       0.100\n",
       "                                    Roots                                    \n",
       "=============================================================================\n",
       "                  Real          Imaginary           Modulus         Frequency\n",
       "-----------------------------------------------------------------------------\n",
       "AR.1            1.0011           -0.0000j            1.0011           -0.0000\n",
       "AR.2            0.9550           -2.0884j            2.2964           -0.1817\n",
       "AR.3            0.9550           +2.0884j            2.2964            0.1817\n",
       "AR.4           -2.6036           -0.0000j            2.6036           -0.5000\n",
       "-----------------------------------------------------------------------------\n",
       "\"\"\""
      ]
     },
     "execution_count": 87,
     "metadata": {},
     "output_type": "execute_result"
    }
   ],
   "source": [
    "model_ar4=ARMA(df.market_value, order=(4,0)) \n",
    "results_ar4 = model_ar4.fit()\n",
    "results_ar4.summary()"
   ]
  },
  {
   "cell_type": "markdown",
   "metadata": {},
   "source": [
    "### Log likelyhood ratio (LLR)"
   ]
  },
  {
   "cell_type": "code",
   "execution_count": 88,
   "metadata": {
    "ExecuteTime": {
     "end_time": "2020-04-30T16:18:09.724804Z",
     "start_time": "2020-04-30T16:18:09.719799Z"
    }
   },
   "outputs": [
    {
     "name": "stdout",
     "output_type": "stream",
     "text": [
      "0.228\n"
     ]
    }
   ],
   "source": [
    "L1 = results_ar1.llf\n",
    "L2 = results_ar2.llf\n",
    "LR = 2 * (L2-L1)\n",
    "p = chi2.sf(LR,1).round(3)\n",
    "print(p)"
   ]
  },
  {
   "cell_type": "code",
   "execution_count": 89,
   "metadata": {
    "ExecuteTime": {
     "end_time": "2020-04-30T16:18:09.730809Z",
     "start_time": "2020-04-30T16:18:09.725805Z"
    }
   },
   "outputs": [],
   "source": [
    "LLRs = [result.llf for result in [results_ar1,results_ar2,results_ar3,results_ar4,]]\n",
    "\n"
   ]
  },
  {
   "cell_type": "code",
   "execution_count": 92,
   "metadata": {
    "ExecuteTime": {
     "end_time": "2020-04-30T16:18:26.311520Z",
     "start_time": "2020-04-30T16:18:25.936188Z"
    }
   },
   "outputs": [
    {
     "data": {
      "text/plain": [
       "0.228"
      ]
     },
     "execution_count": 92,
     "metadata": {},
     "output_type": "execute_result"
    }
   ],
   "source": [
    "def LLR_test(mod_1, mod_2, DF=1):\n",
    "    L1=mod_1.fit().llf\n",
    "    L2=mod_2.fit().llf\n",
    "    LR = 2 * (L2-L1)\n",
    "    return chi2.sf(LR,DF).round(3)    \n",
    "\n",
    "LLR_test(model_ar1, model_ar2)"
   ]
  },
  {
   "cell_type": "code",
   "execution_count": 96,
   "metadata": {
    "ExecuteTime": {
     "end_time": "2020-04-30T16:19:11.927920Z",
     "start_time": "2020-04-30T16:19:11.922918Z"
    }
   },
   "outputs": [
    {
     "name": "stdout",
     "output_type": "stream",
     "text": [
      "[0.228, 0.001, 0.0]\n"
     ]
    }
   ],
   "source": [
    "def LLR_test2(L1, L2, DF=1):\n",
    "    LR = 2 * (L2-L1)\n",
    "    return chi2.sf(LR,DF).round(3)   \n",
    "\n",
    "LLRs = [result.llf for result in [results_ar1,results_ar2,results_ar3,results_ar4,]]\n",
    "ps = [LLR_test2(LLRs[i-1], LLRs[i]) for i in range(1,len(LLRs))]\n",
    "print(ps)"
   ]
  },
  {
   "cell_type": "code",
   "execution_count": 100,
   "metadata": {
    "ExecuteTime": {
     "end_time": "2020-04-30T16:24:21.654751Z",
     "start_time": "2020-04-30T16:24:17.496292Z"
    }
   },
   "outputs": [
    {
     "data": {
      "text/plain": [
       "(<class 'statsmodels.iolib.summary.Summary'>\n",
       " \"\"\"\n",
       "                               ARMA Model Results                              \n",
       " ==============================================================================\n",
       " Dep. Variable:           market_value   No. Observations:                 5021\n",
       " Model:                     ARMA(5, 0)   Log Likelihood              -27600.343\n",
       " Method:                       css-mle   S.D. of innovations             58.995\n",
       " Date:                Thu, 30 Apr 2020   AIC                          55214.685\n",
       " Time:                        18:24:19   BIC                          55260.335\n",
       " Sample:                    01-07-1994   HQIC                         55230.681\n",
       "                          - 04-05-2013                                         \n",
       " ======================================================================================\n",
       "                          coef    std err          z      P>|z|      [0.025      0.975]\n",
       " --------------------------------------------------------------------------------------\n",
       " const               5031.9353    542.873      9.269      0.000    3967.923    6095.947\n",
       " ar.L1.market_value     0.9791      0.014     69.481      0.000       0.952       1.007\n",
       " ar.L2.market_value    -0.0293      0.020     -1.488      0.137      -0.068       0.009\n",
       " ar.L3.market_value    -0.0232      0.020     -1.178      0.239      -0.062       0.015\n",
       " ar.L4.market_value     0.1018      0.020      5.166      0.000       0.063       0.140\n",
       " ar.L5.market_value    -0.0297      0.014     -2.106      0.035      -0.057      -0.002\n",
       "                                     Roots                                    \n",
       " =============================================================================\n",
       "                   Real          Imaginary           Modulus         Frequency\n",
       " -----------------------------------------------------------------------------\n",
       " AR.1            1.0012           -0.0000j            1.0012           -0.0000\n",
       " AR.2           -2.0605           -0.0000j            2.0605           -0.5000\n",
       " AR.3            0.4270           -2.0763j            2.1198           -0.2177\n",
       " AR.4            0.4270           +2.0763j            2.1198            0.2177\n",
       " AR.5            3.6287           -0.0000j            3.6287           -0.0000\n",
       " -----------------------------------------------------------------------------\n",
       " \"\"\", 0.035)"
      ]
     },
     "execution_count": 100,
     "metadata": {},
     "output_type": "execute_result"
    }
   ],
   "source": [
    "model_ar5=ARMA(df.market_value, order=(5,0))\n",
    "results_ar5=model_ar5.fit()\n",
    "results_ar5.summary(), LLR_test(model_ar4, model_ar5)"
   ]
  },
  {
   "cell_type": "code",
   "execution_count": 101,
   "metadata": {
    "ExecuteTime": {
     "end_time": "2020-04-30T16:24:45.401119Z",
     "start_time": "2020-04-30T16:24:41.689430Z"
    }
   },
   "outputs": [
    {
     "data": {
      "text/plain": [
       "(<class 'statsmodels.iolib.summary.Summary'>\n",
       " \"\"\"\n",
       "                               ARMA Model Results                              \n",
       " ==============================================================================\n",
       " Dep. Variable:           market_value   No. Observations:                 5021\n",
       " Model:                     ARMA(6, 0)   Log Likelihood              -27596.474\n",
       " Method:                       css-mle   S.D. of innovations             58.950\n",
       " Date:                Thu, 30 Apr 2020   AIC                          55208.947\n",
       " Time:                        18:24:42   BIC                          55261.118\n",
       " Sample:                    01-07-1994   HQIC                         55227.229\n",
       "                          - 04-05-2013                                         \n",
       " ======================================================================================\n",
       "                          coef    std err          z      P>|z|      [0.025      0.975]\n",
       " --------------------------------------------------------------------------------------\n",
       " const               5089.6411    565.304      9.003      0.000    3981.665    6197.617\n",
       " ar.L1.market_value     0.9803      0.014     69.604      0.000       0.953       1.008\n",
       " ar.L2.market_value    -0.0333      0.020     -1.687      0.092      -0.072       0.005\n",
       " ar.L3.market_value    -0.0223      0.020     -1.134      0.257      -0.061       0.016\n",
       " ar.L4.market_value     0.1029      0.020      5.227      0.000       0.064       0.141\n",
       " ar.L5.market_value    -0.0682      0.020     -3.454      0.001      -0.107      -0.029\n",
       " ar.L6.market_value     0.0393      0.014      2.785      0.005       0.012       0.067\n",
       "                                     Roots                                    \n",
       " =============================================================================\n",
       "                   Real          Imaginary           Modulus         Frequency\n",
       " -----------------------------------------------------------------------------\n",
       " AR.1            1.0011           -0.0000j            1.0011           -0.0000\n",
       " AR.2           -1.6828           -0.0000j            1.6828           -0.5000\n",
       " AR.3           -0.3031           -1.8985j            1.9226           -0.2752\n",
       " AR.4           -0.3031           +1.8985j            1.9226            0.2752\n",
       " AR.5            1.5114           -1.3426j            2.0216           -0.1156\n",
       " AR.6            1.5114           +1.3426j            2.0216            0.1156\n",
       " -----------------------------------------------------------------------------\n",
       " \"\"\", 0.005)"
      ]
     },
     "execution_count": 101,
     "metadata": {},
     "output_type": "execute_result"
    }
   ],
   "source": [
    "model_ar6=ARMA(df.market_value, order=(6,0))\n",
    "results_ar6=model_ar6.fit()\n",
    "results_ar6.summary(), LLR_test(model_ar5, model_ar6)"
   ]
  },
  {
   "cell_type": "code",
   "execution_count": 102,
   "metadata": {
    "ExecuteTime": {
     "end_time": "2020-04-30T16:25:34.346282Z",
     "start_time": "2020-04-30T16:25:30.816255Z"
    }
   },
   "outputs": [
    {
     "data": {
      "text/plain": [
       "(<class 'statsmodels.iolib.summary.Summary'>\n",
       " \"\"\"\n",
       "                               ARMA Model Results                              \n",
       " ==============================================================================\n",
       " Dep. Variable:           market_value   No. Observations:                 5021\n",
       " Model:                     ARMA(7, 0)   Log Likelihood              -27591.900\n",
       " Method:                       css-mle   S.D. of innovations             58.896\n",
       " Date:                Thu, 30 Apr 2020   AIC                          55201.799\n",
       " Time:                        18:25:31   BIC                          55260.492\n",
       " Sample:                    01-07-1994   HQIC                         55222.366\n",
       "                          - 04-05-2013                                         \n",
       " ======================================================================================\n",
       "                          coef    std err          z      P>|z|      [0.025      0.975]\n",
       " --------------------------------------------------------------------------------------\n",
       " const               5089.6412    589.590      8.633      0.000    3934.066    6245.216\n",
       " ar.L1.market_value     0.9786      0.014     69.518      0.000       0.951       1.006\n",
       " ar.L2.market_value    -0.0304      0.020     -1.540      0.124      -0.069       0.008\n",
       " ar.L3.market_value    -0.0267      0.020     -1.353      0.176      -0.065       0.012\n",
       " ar.L4.market_value     0.1038      0.020      5.279      0.000       0.065       0.142\n",
       " ar.L5.market_value    -0.0668      0.020     -3.385      0.001      -0.105      -0.028\n",
       " ar.L6.market_value    -0.0025      0.020     -0.127      0.899      -0.041       0.036\n",
       " ar.L7.market_value     0.0427      0.014      3.026      0.002       0.015       0.070\n",
       "                                     Roots                                    \n",
       " =============================================================================\n",
       "                   Real          Imaginary           Modulus         Frequency\n",
       " -----------------------------------------------------------------------------\n",
       " AR.1            1.0010           -0.0000j            1.0010           -0.0000\n",
       " AR.2            1.3301           -0.9296j            1.6228           -0.0971\n",
       " AR.3            1.3301           +0.9296j            1.6228            0.0971\n",
       " AR.4           -0.0400           -1.5870j            1.5875           -0.2540\n",
       " AR.5           -0.0400           +1.5870j            1.5875            0.2540\n",
       " AR.6           -1.7612           -0.6517j            1.8779           -0.4436\n",
       " AR.7           -1.7612           +0.6517j            1.8779            0.4436\n",
       " -----------------------------------------------------------------------------\n",
       " \"\"\", 0.002)"
      ]
     },
     "execution_count": 102,
     "metadata": {},
     "output_type": "execute_result"
    }
   ],
   "source": [
    "model_ar7=ARMA(df.market_value, order=(7,0))\n",
    "results_ar7=model_ar7.fit()\n",
    "results_ar7.summary(), LLR_test(model_ar6, model_ar7)"
   ]
  },
  {
   "cell_type": "code",
   "execution_count": 104,
   "metadata": {
    "ExecuteTime": {
     "end_time": "2020-04-30T16:27:56.004532Z",
     "start_time": "2020-04-30T16:27:50.521192Z"
    }
   },
   "outputs": [
    {
     "name": "stdout",
     "output_type": "stream",
     "text": [
      "0.571\n"
     ]
    },
    {
     "data": {
      "text/html": [
       "<table class=\"simpletable\">\n",
       "<caption>ARMA Model Results</caption>\n",
       "<tr>\n",
       "  <th>Dep. Variable:</th>   <td>market_value</td>   <th>  No. Observations:  </th>    <td>5021</td>   \n",
       "</tr>\n",
       "<tr>\n",
       "  <th>Model:</th>            <td>ARMA(8, 0)</td>    <th>  Log Likelihood     </th> <td>-27591.739</td>\n",
       "</tr>\n",
       "<tr>\n",
       "  <th>Method:</th>             <td>css-mle</td>     <th>  S.D. of innovations</th>   <td>58.894</td>  \n",
       "</tr>\n",
       "<tr>\n",
       "  <th>Date:</th>          <td>Thu, 30 Apr 2020</td> <th>  AIC                </th>  <td>55203.478</td>\n",
       "</tr>\n",
       "<tr>\n",
       "  <th>Time:</th>              <td>18:27:54</td>     <th>  BIC                </th>  <td>55268.692</td>\n",
       "</tr>\n",
       "<tr>\n",
       "  <th>Sample:</th>           <td>01-07-1994</td>    <th>  HQIC               </th>  <td>55226.329</td>\n",
       "</tr>\n",
       "<tr>\n",
       "  <th></th>                 <td>- 04-05-2013</td>   <th>                     </th>      <td> </td>    \n",
       "</tr>\n",
       "</table>\n",
       "<table class=\"simpletable\">\n",
       "<tr>\n",
       "           <td></td>             <th>coef</th>     <th>std err</th>      <th>z</th>      <th>P>|z|</th>  <th>[0.025</th>    <th>0.975]</th>  \n",
       "</tr>\n",
       "<tr>\n",
       "  <th>const</th>              <td> 5089.6413</td> <td>  584.988</td> <td>    8.700</td> <td> 0.000</td> <td> 3943.086</td> <td> 6236.197</td>\n",
       "</tr>\n",
       "<tr>\n",
       "  <th>ar.L1.market_value</th> <td>    0.9790</td> <td>    0.014</td> <td>   69.476</td> <td> 0.000</td> <td>    0.951</td> <td>    1.007</td>\n",
       "</tr>\n",
       "<tr>\n",
       "  <th>ar.L2.market_value</th> <td>   -0.0304</td> <td>    0.020</td> <td>   -1.541</td> <td> 0.123</td> <td>   -0.069</td> <td>    0.008</td>\n",
       "</tr>\n",
       "<tr>\n",
       "  <th>ar.L3.market_value</th> <td>   -0.0272</td> <td>    0.020</td> <td>   -1.379</td> <td> 0.168</td> <td>   -0.066</td> <td>    0.011</td>\n",
       "</tr>\n",
       "<tr>\n",
       "  <th>ar.L4.market_value</th> <td>    0.1047</td> <td>    0.020</td> <td>    5.306</td> <td> 0.000</td> <td>    0.066</td> <td>    0.143</td>\n",
       "</tr>\n",
       "<tr>\n",
       "  <th>ar.L5.market_value</th> <td>   -0.0670</td> <td>    0.020</td> <td>   -3.395</td> <td> 0.001</td> <td>   -0.106</td> <td>   -0.028</td>\n",
       "</tr>\n",
       "<tr>\n",
       "  <th>ar.L6.market_value</th> <td>   -0.0028</td> <td>    0.020</td> <td>   -0.140</td> <td> 0.889</td> <td>   -0.041</td> <td>    0.036</td>\n",
       "</tr>\n",
       "<tr>\n",
       "  <th>ar.L7.market_value</th> <td>    0.0505</td> <td>    0.020</td> <td>    2.559</td> <td> 0.010</td> <td>    0.012</td> <td>    0.089</td>\n",
       "</tr>\n",
       "<tr>\n",
       "  <th>ar.L8.market_value</th> <td>   -0.0080</td> <td>    0.014</td> <td>   -0.567</td> <td> 0.571</td> <td>   -0.036</td> <td>    0.020</td>\n",
       "</tr>\n",
       "</table>\n",
       "<table class=\"simpletable\">\n",
       "<caption>Roots</caption>\n",
       "<tr>\n",
       "    <td></td>   <th>            Real</th>  <th>         Imaginary</th> <th>         Modulus</th>  <th>        Frequency</th>\n",
       "</tr>\n",
       "<tr>\n",
       "  <th>AR.1</th> <td>           1.0010</td> <td>          -0.0000j</td> <td>           1.0010</td> <td>          -0.0000</td>\n",
       "</tr>\n",
       "<tr>\n",
       "  <th>AR.2</th> <td>          -1.6223</td> <td>          -0.6323j</td> <td>           1.7412</td> <td>          -0.4409</td>\n",
       "</tr>\n",
       "<tr>\n",
       "  <th>AR.3</th> <td>          -1.6223</td> <td>          +0.6323j</td> <td>           1.7412</td> <td>           0.4409</td>\n",
       "</tr>\n",
       "<tr>\n",
       "  <th>AR.4</th> <td>          -0.0911</td> <td>          -1.5626j</td> <td>           1.5653</td> <td>          -0.2593</td>\n",
       "</tr>\n",
       "<tr>\n",
       "  <th>AR.5</th> <td>          -0.0911</td> <td>          +1.5626j</td> <td>           1.5653</td> <td>           0.2593</td>\n",
       "</tr>\n",
       "<tr>\n",
       "  <th>AR.6</th> <td>           1.3256</td> <td>          -1.0019j</td> <td>           1.6616</td> <td>          -0.1030</td>\n",
       "</tr>\n",
       "<tr>\n",
       "  <th>AR.7</th> <td>           1.3256</td> <td>          +1.0019j</td> <td>           1.6616</td> <td>           0.1030</td>\n",
       "</tr>\n",
       "<tr>\n",
       "  <th>AR.8</th> <td>           6.0862</td> <td>          -0.0000j</td> <td>           6.0862</td> <td>          -0.0000</td>\n",
       "</tr>\n",
       "</table>"
      ],
      "text/plain": [
       "<class 'statsmodels.iolib.summary.Summary'>\n",
       "\"\"\"\n",
       "                              ARMA Model Results                              \n",
       "==============================================================================\n",
       "Dep. Variable:           market_value   No. Observations:                 5021\n",
       "Model:                     ARMA(8, 0)   Log Likelihood              -27591.739\n",
       "Method:                       css-mle   S.D. of innovations             58.894\n",
       "Date:                Thu, 30 Apr 2020   AIC                          55203.478\n",
       "Time:                        18:27:54   BIC                          55268.692\n",
       "Sample:                    01-07-1994   HQIC                         55226.329\n",
       "                         - 04-05-2013                                         \n",
       "======================================================================================\n",
       "                         coef    std err          z      P>|z|      [0.025      0.975]\n",
       "--------------------------------------------------------------------------------------\n",
       "const               5089.6413    584.988      8.700      0.000    3943.086    6236.197\n",
       "ar.L1.market_value     0.9790      0.014     69.476      0.000       0.951       1.007\n",
       "ar.L2.market_value    -0.0304      0.020     -1.541      0.123      -0.069       0.008\n",
       "ar.L3.market_value    -0.0272      0.020     -1.379      0.168      -0.066       0.011\n",
       "ar.L4.market_value     0.1047      0.020      5.306      0.000       0.066       0.143\n",
       "ar.L5.market_value    -0.0670      0.020     -3.395      0.001      -0.106      -0.028\n",
       "ar.L6.market_value    -0.0028      0.020     -0.140      0.889      -0.041       0.036\n",
       "ar.L7.market_value     0.0505      0.020      2.559      0.010       0.012       0.089\n",
       "ar.L8.market_value    -0.0080      0.014     -0.567      0.571      -0.036       0.020\n",
       "                                    Roots                                    \n",
       "=============================================================================\n",
       "                  Real          Imaginary           Modulus         Frequency\n",
       "-----------------------------------------------------------------------------\n",
       "AR.1            1.0010           -0.0000j            1.0010           -0.0000\n",
       "AR.2           -1.6223           -0.6323j            1.7412           -0.4409\n",
       "AR.3           -1.6223           +0.6323j            1.7412            0.4409\n",
       "AR.4           -0.0911           -1.5626j            1.5653           -0.2593\n",
       "AR.5           -0.0911           +1.5626j            1.5653            0.2593\n",
       "AR.6            1.3256           -1.0019j            1.6616           -0.1030\n",
       "AR.7            1.3256           +1.0019j            1.6616            0.1030\n",
       "AR.8            6.0862           -0.0000j            6.0862           -0.0000\n",
       "-----------------------------------------------------------------------------\n",
       "\"\"\""
      ]
     },
     "execution_count": 104,
     "metadata": {},
     "output_type": "execute_result"
    }
   ],
   "source": [
    "model_ar8=ARMA(df.market_value, order=(8,0))\n",
    "results_ar8=model_ar8.fit()\n",
    "print(LLR_test(model_ar7, model_ar8))\n",
    "results_ar8.summary()"
   ]
  },
  {
   "cell_type": "markdown",
   "metadata": {},
   "source": [
    "7$^{th}$ order model is best because 8th has ar.L8.market_value z negative, which means it's insignificant"
   ]
  },
  {
   "cell_type": "code",
   "execution_count": 110,
   "metadata": {
    "ExecuteTime": {
     "end_time": "2020-04-30T16:31:24.790472Z",
     "start_time": "2020-04-30T16:31:24.669313Z"
    }
   },
   "outputs": [
    {
     "data": {
      "text/plain": [
       "(0.35224692327344465, 4005.9446690156165)"
      ]
     },
     "execution_count": 110,
     "metadata": {},
     "output_type": "execute_result"
    }
   ],
   "source": [
    "df['res_price']=results_ar7.resid\n",
    "df.res_price.mean(), df.res_price.var()"
   ]
  },
  {
   "cell_type": "code",
   "execution_count": 118,
   "metadata": {
    "ExecuteTime": {
     "end_time": "2020-04-30T16:37:00.567428Z",
     "start_time": "2020-04-30T16:37:00.285628Z"
    }
   },
   "outputs": [
    {
     "data": {
      "image/png": "[encoded data removed]",
      "text/plain": [
       "<Figure size 432x288 with 1 Axes>"
      ]
     },
     "metadata": {},
     "output_type": "display_data"
    }
   ],
   "source": [
    "df.market_value.plot()\n",
    "plt.title(\"FTSE data\", size=20);"
   ]
  },
  {
   "cell_type": "code",
   "execution_count": 119,
   "metadata": {
    "ExecuteTime": {
     "end_time": "2020-04-30T16:37:13.649253Z",
     "start_time": "2020-04-30T16:37:13.375010Z"
    }
   },
   "outputs": [
    {
     "data": {
      "image/png": "[encoded data removed]",
      "text/plain": [
       "<Figure size 432x288 with 1 Axes>"
      ]
     },
     "metadata": {},
     "output_type": "display_data"
    }
   ],
   "source": [
    "df.res_price.plot()\n",
    "plt.title(\"AR residuals\", size=20);"
   ]
  },
  {
   "cell_type": "code",
   "execution_count": 120,
   "metadata": {
    "ExecuteTime": {
     "end_time": "2020-04-30T16:39:20.346053Z",
     "start_time": "2020-04-30T16:39:20.189912Z"
    }
   },
   "outputs": [
    {
     "data": {
      "image/png": "[encoded data removed]",
      "text/plain": [
       "<Figure size 432x288 with 1 Axes>"
      ]
     },
     "metadata": {},
     "output_type": "display_data"
    }
   ],
   "source": [
    "sgt.plot_acf(df.res_price, zero=False, lags=40);"
   ]
  },
  {
   "cell_type": "code",
   "execution_count": 122,
   "metadata": {
    "ExecuteTime": {
     "end_time": "2020-04-30T16:43:13.907269Z",
     "start_time": "2020-04-30T16:43:13.711096Z"
    }
   },
   "outputs": [
    {
     "data": {
      "text/plain": [
       "(-1.904155141883686,\n",
       " 0.3301089327702835,\n",
       " 6,\n",
       " 5014,\n",
       " {'1%': -3.4316548765428174,\n",
       "  '5%': -2.8621166146845334,\n",
       "  '10%': -2.5670769326348926},\n",
       " 54854.15304507557)"
      ]
     },
     "execution_count": 122,
     "metadata": {},
     "output_type": "execute_result"
    }
   ],
   "source": [
    "sts.adfuller(df.market_value) # Augmented Dickey-Fuller test"
   ]
  },
  {
   "cell_type": "code",
   "execution_count": 123,
   "metadata": {
    "ExecuteTime": {
     "end_time": "2020-04-30T16:45:32.290549Z",
     "start_time": "2020-04-30T16:45:32.096589Z"
    }
   },
   "outputs": [
    {
     "data": {
      "text/plain": [
       "(-76.07468560212466,\n",
       " 0.0,\n",
       " 0,\n",
       " 5020,\n",
       " {'1%': -3.431653316130827,\n",
       "  '5%': -2.8621159253018247,\n",
       "  '10%': -2.5670765656497516},\n",
       " 54842.41512454752)"
      ]
     },
     "execution_count": 123,
     "metadata": {},
     "output_type": "execute_result"
    }
   ],
   "source": [
    "sts.adfuller(df.res_price) # Augmented Dickey-Fuller test"
   ]
  },
  {
   "cell_type": "code",
   "execution_count": 127,
   "metadata": {
    "ExecuteTime": {
     "end_time": "2020-04-30T16:48:11.337991Z",
     "start_time": "2020-04-30T16:48:11.331987Z"
    }
   },
   "outputs": [],
   "source": [
    "\n",
    "from scipy.io.wavfile import write\n",
    "\n",
    "scaled = np.int16(df.res_price/np.max(np.abs(df.res_price)) * 32767)\n",
    "write('test.wav', 441, scaled)"
   ]
  },
  {
   "cell_type": "code",
   "execution_count": null,
   "metadata": {},
   "outputs": [],
   "source": []
  }
 ],
 "metadata": {
  "kernelspec": {
   "display_name": "Python 3",
   "language": "python",
   "name": "python3"
  },
  "language_info": {
   "codemirror_mode": {
    "name": "ipython",
    "version": 3
   },
   "file_extension": ".py",
   "mimetype": "text/x-python",
   "name": "python",
   "nbconvert_exporter": "python",
   "pygments_lexer": "ipython3",
   "version": "3.7.2"
  }
 },
 "nbformat": 4,
 "nbformat_minor": 2
}
