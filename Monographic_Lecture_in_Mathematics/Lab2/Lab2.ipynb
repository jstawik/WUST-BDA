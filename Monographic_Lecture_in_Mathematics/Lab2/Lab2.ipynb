{
 "cells": [
  {
   "cell_type": "code",
   "execution_count": 2,
   "metadata": {},
   "outputs": [],
   "source": [
    "import pywt\n",
    "import numpy as np\n",
    "import scaleogram as scg\n",
    "import matplotlib.pyplot as plt\n",
    "import scipy.fftpack as fftpack\n",
    "import pandas as pd\n",
    "import matplotlib.image as mpimg\n",
    "import os"
   ]
  },
  {
   "cell_type": "code",
   "execution_count": 3,
   "metadata": {},
   "outputs": [],
   "source": [
    "wavelet='morl'\n",
    "scales = np.arange(1,128)\n",
    "sample_len = 128\n",
    "dt = 1/sample_len\n",
    "time = np.linspace(0, 1, num=sample_len)\n",
    "a= pywt.central_frequency(wavelet)/( dt * scales)\n",
    "\n",
    "def make_image(data, name):\n",
    "    coeff,freqs=pywt.cwt(data,a,wavelet,dt)\n",
    "    cwtPower=abs(coeff)**2\n",
    "    fig, ax=plt.subplots(frameon=False)\n",
    "    plt.axis('off')\n",
    "    plt.figure(figsize=(128, 128), dpi=1)\n",
    "    #img=ax.imshow(cwtPower[::-1],aspect='auto',cmap=\"jet\",extent=[0,1,0,100])\n",
    "    #img=ax.plot(cwtPower[::-1])\n",
    "    #img=ax.imshow(cwtPower[::-1], cmap=\"gist_rainbow\")\n",
    "    img=ax.imshow(cwtPower[::-1], cmap=\"gist_gray\")\n",
    "    fig.savefig(f\"pics/{name}.png\")\n",
    "    plt.close('all')\n",
    "    \n"
   ]
  },
  {
   "cell_type": "code",
   "execution_count": 5,
   "metadata": {},
   "outputs": [
    {
     "name": "stdout",
     "output_type": "stream",
     "text": [
      "(3, 3, 7352, 128)\n",
      "(7352,)\n",
      "(3, 3, 2947, 128)\n",
      "(2947,)\n",
      "\n",
      "(7352, 128)\n"
     ]
    }
   ],
   "source": [
    "dims = [\"x\", \"y\", \"z\"]\n",
    "sigs = [\"body_acc\", \"body_gyro\", \"total_acc\"]\n",
    "sets = [\"test\", \"train\"]\n",
    "\n",
    "data = {}\n",
    "for oset in sets:\n",
    "    set_data = []\n",
    "    for sig in sigs:\n",
    "        sig_data = []\n",
    "        for dim in dims:\n",
    "            dim_data = []\n",
    "            with open(f\"./data/{oset}/Inertial Signals/{sig}_{dim}_{oset}.txt\") as src:\n",
    "                for line in src:\n",
    "                    dim_data.append(np.fromstring(line, dtype=float, sep=\" \"))\n",
    "            sig_data.append(dim_data)\n",
    "        set_data.append(sig_data)\n",
    "    set_label=np.fromfile(f\"./data/{oset}/y_{oset}.txt\", sep=\"\\n\")\n",
    "    data.update({f\"{oset}_data\": np.asarray(set_data)})\n",
    "    data.update({f\"{oset}_label\": set_label})\n",
    "    \n",
    "\n",
    "\n",
    "print(data[\"train_data\"].shape)\n",
    "print(data[\"train_label\"].shape)\n",
    "print(data[\"test_data\"].shape)\n",
    "print(data[\"test_label\"].shape)\n",
    "print(\"\")\n",
    "print(data[\"train_data\"][0][0].shape)"
   ]
  },
  {
   "cell_type": "code",
   "execution_count": 5,
   "metadata": {},
   "outputs": [
    {
     "name": "stdout",
     "output_type": "stream",
     "text": [
      "(128,)\n"
     ]
    }
   ],
   "source": [
    "datum = data[\"train_data\"][0][0][5]\n",
    "print(datum.shape)\n",
    "make_image(datum, \"tmp.png\")"
   ]
  },
  {
   "cell_type": "code",
   "execution_count": null,
   "metadata": {},
   "outputs": [],
   "source": [
    "# for oset in sets:\n",
    "#    os.mkdir(f\"pics/{oset}\")      \n",
    "#for oset in sets:\n",
    "for oset in [\"train\"]:\n",
    "    for i in range(3):\n",
    "        for j in range(3):\n",
    "            for idx, datum in enumerate(data[f\"{oset}_data\"][i][j]):\n",
    "                    make_image(datum, f\"{oset}/{i}-{j}-{idx}\")\n",
    "        "
   ]
  },
  {
   "cell_type": "code",
   "execution_count": 39,
   "metadata": {},
   "outputs": [
    {
     "data": {
      "text/plain": [
       "7352"
      ]
     },
     "execution_count": 39,
     "metadata": {},
     "output_type": "execute_result"
    }
   ],
   "source": [
    "len(data[\"train_data\"][0][0])"
   ]
  },
  {
   "cell_type": "code",
   "execution_count": null,
   "metadata": {},
   "outputs": [],
   "source": []
  }
 ],
 "metadata": {
  "kernelspec": {
   "display_name": "Python 3",
   "language": "python",
   "name": "python3"
  },
  "language_info": {
   "codemirror_mode": {
    "name": "ipython",
    "version": 3
   },
   "file_extension": ".py",
   "mimetype": "text/x-python",
   "name": "python",
   "nbconvert_exporter": "python",
   "pygments_lexer": "ipython3",
   "version": "3.8.2"
  }
 },
 "nbformat": 4,
 "nbformat_minor": 4
}
