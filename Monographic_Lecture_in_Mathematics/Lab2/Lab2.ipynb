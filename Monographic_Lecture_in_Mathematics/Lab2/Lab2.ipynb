{
 "cells": [
  {
   "cell_type": "markdown",
   "metadata": {},
   "source": [
    "### Imports"
   ]
  },
  {
   "cell_type": "code",
   "execution_count": 1,
   "metadata": {
    "ExecuteTime": {
     "end_time": "2020-04-14T21:01:39.270353Z",
     "start_time": "2020-04-14T21:01:31.177669Z"
    }
   },
   "outputs": [
    {
     "name": "stderr",
     "output_type": "stream",
     "text": [
      "Using TensorFlow backend.\n"
     ]
    },
    {
     "name": "stdout",
     "output_type": "stream",
     "text": [
      "True\n"
     ]
    }
   ],
   "source": [
    "import pywt\n",
    "import numpy as np\n",
    "import scaleogram as scg\n",
    "import matplotlib.pyplot as plt\n",
    "import scipy.fftpack as fftpack\n",
    "import pandas as pd\n",
    "import matplotlib.image as mpimg\n",
    "import os\n",
    "import gc\n",
    "\n",
    "import keras\n",
    "from keras.models import Sequential\n",
    "from keras.layers import Dense, Dropout, Activation, Flatten\n",
    "from keras.layers import Conv2D, MaxPooling2D\n",
    "from keras.utils import to_categorical\n",
    "import keras.optimizers as opt\n",
    "import tensorflow as tf\n",
    "print(tf.test.is_gpu_available())"
   ]
  },
  {
   "cell_type": "markdown",
   "metadata": {},
   "source": [
    "### Transformation definition"
   ]
  },
  {
   "cell_type": "code",
   "execution_count": 2,
   "metadata": {
    "ExecuteTime": {
     "end_time": "2020-04-14T21:01:39.278360Z",
     "start_time": "2020-04-14T21:01:39.273356Z"
    }
   },
   "outputs": [],
   "source": [
    "wavelet='morl'\n",
    "scales = np.arange(1,128+1)\n",
    "sample_len = 127\n",
    "dt = 1/50\n",
    "time = np.linspace(0, sample_len*dt, num=sample_len)\n",
    "a= pywt.central_frequency(wavelet)/( dt * scales)\n",
    "\n",
    "def apply_cwt(datum):\n",
    "    coeff,freqs=pywt.cwt(datum,a,wavelet,dt)\n",
    "    return abs(coeff)**2"
   ]
  },
  {
   "cell_type": "markdown",
   "metadata": {
    "ExecuteTime": {
     "end_time": "2020-04-09T20:14:41.556846Z",
     "start_time": "2020-04-09T20:14:41.554844Z"
    }
   },
   "source": [
    "### Data loading"
   ]
  },
  {
   "cell_type": "code",
   "execution_count": 3,
   "metadata": {
    "ExecuteTime": {
     "end_time": "2020-04-14T21:01:47.090588Z",
     "start_time": "2020-04-14T21:01:39.280362Z"
    }
   },
   "outputs": [
    {
     "name": "stdout",
     "output_type": "stream",
     "text": [
      "train data shape:  (3, 3, 7352, 128)\n",
      "train label shape:  (7352,)\n",
      "test data shape:  (3, 3, 2947, 128)\n",
      "test label shape:  (2947,)\n",
      "test label range:  1.0 6.0\n",
      "Signal shape:  (7352, 128)\n"
     ]
    }
   ],
   "source": [
    "dims = [\"x\", \"y\", \"z\"]\n",
    "sigs = [\"body_acc\", \"body_gyro\", \"total_acc\"]\n",
    "sets = [\"test\", \"train\"]\n",
    "\n",
    "data = {}\n",
    "for oset in sets:\n",
    "    set_data = []\n",
    "    for sig in sigs:\n",
    "        sig_data = []\n",
    "        for dim in dims:\n",
    "            dim_data = []\n",
    "            with open(f\"./data/{oset}/Inertial Signals/{sig}_{dim}_{oset}.txt\") as src:\n",
    "                for line in src:\n",
    "                    dim_data.append(np.fromstring(line, dtype=float, sep=\" \"))\n",
    "            sig_data.append(dim_data)\n",
    "        set_data.append(sig_data)\n",
    "    set_label=np.fromfile(f\"./data/{oset}/y_{oset}.txt\", sep=\"\\n\")\n",
    "    data.update({f\"{oset}_data\": np.asarray(set_data)})\n",
    "    data.update({f\"{oset}_label\": set_label})\n",
    "    \n",
    "\n",
    "\n",
    "print(\"train data shape: \", data[\"train_data\"].shape)\n",
    "print(\"train label shape: \", data[\"train_label\"].shape)\n",
    "print(\"test data shape: \", data[\"test_data\"].shape)\n",
    "print(\"test label shape: \", data[\"test_label\"].shape)\n",
    "print(\"test label range: \", min(data[\"test_label\"]), max(data[\"test_label\"]))\n",
    "print(\"Signal shape: \", data[\"train_data\"][0][0].shape)"
   ]
  },
  {
   "cell_type": "markdown",
   "metadata": {},
   "source": [
    "### Preprocessing"
   ]
  },
  {
   "cell_type": "code",
   "execution_count": 4,
   "metadata": {
    "ExecuteTime": {
     "end_time": "2020-04-14T21:11:43.739785Z",
     "start_time": "2020-04-14T21:01:47.091587Z"
    }
   },
   "outputs": [],
   "source": [
    "train_d = data[\"train_data\"]\n",
    "train_l = data[\"train_label\"]\n",
    "test_d = data[\"test_data\"]\n",
    "test_l = data[\"test_label\"]\n",
    "\n",
    "del data\n",
    "\n",
    "train_d = np.asarray([sig for sigarr in train_d for sig in sigarr])\n",
    "test_d = np.asarray([sig for sigarr in test_d for sig in sigarr])\n",
    "\n",
    "train_input = []\n",
    "test_input = []\n",
    "\n",
    "for sig in range(9):\n",
    "    train_input.append(np.array([apply_cwt(sample) for sample in train_d[sig]]))\n",
    "    \n",
    "for sig in range(9):\n",
    "    test_input.append(np.array([apply_cwt(sample) for sample in test_d[sig]]))\n",
    "\n",
    "del train_d, test_d\n",
    "train_input = np.asarray(train_input).transpose(1,0,2,3)\n",
    "test_input = np.asarray(test_input).transpose(1,0,2,3)\n",
    "#train_input = train_input.reshape(train_input.shape+(1,))\n",
    "#test_input = test_input.reshape(test_input.shape+(1,))\n",
    "train_label = to_categorical(train_l-1, num_classes=6)\n",
    "test_label = to_categorical(test_l-1, num_classes=6)\n",
    "del train_l, test_l"
   ]
  },
  {
   "cell_type": "markdown",
   "metadata": {
    "ExecuteTime": {
     "end_time": "2020-04-14T20:03:11.418029Z",
     "start_time": "2020-04-14T20:03:11.412024Z"
    }
   },
   "source": [
    "### Creating the model"
   ]
  },
  {
   "cell_type": "code",
   "execution_count": 5,
   "metadata": {
    "ExecuteTime": {
     "end_time": "2020-04-14T21:11:44.722085Z",
     "start_time": "2020-04-14T21:11:43.748796Z"
    }
   },
   "outputs": [
    {
     "name": "stdout",
     "output_type": "stream",
     "text": [
      "WARNING:tensorflow:From c:\\users\\tsar\\appdata\\local\\programs\\python\\python37\\lib\\site-packages\\tensorflow\\python\\ops\\resource_variable_ops.py:435: colocate_with (from tensorflow.python.framework.ops) is deprecated and will be removed in a future version.\n",
      "Instructions for updating:\n",
      "Colocations handled automatically by placer.\n",
      "Model: \"sequential_1\"\n",
      "_________________________________________________________________\n",
      "Layer (type)                 Output Shape              Param #   \n",
      "=================================================================\n",
      "conv2d_1 (Conv2D)            (None, 128, 124, 124)     28928     \n",
      "_________________________________________________________________\n",
      "max_pooling2d_1 (MaxPooling2 (None, 128, 62, 62)       0         \n",
      "_________________________________________________________________\n",
      "conv2d_2 (Conv2D)            (None, 64, 58, 58)        204864    \n",
      "_________________________________________________________________\n",
      "max_pooling2d_2 (MaxPooling2 (None, 64, 29, 29)        0         \n",
      "_________________________________________________________________\n",
      "flatten_1 (Flatten)          (None, 53824)             0         \n",
      "_________________________________________________________________\n",
      "dense_1 (Dense)              (None, 20)                1076500   \n",
      "_________________________________________________________________\n",
      "dense_2 (Dense)              (None, 6)                 126       \n",
      "=================================================================\n",
      "Total params: 1,310,418\n",
      "Trainable params: 1,310,418\n",
      "Non-trainable params: 0\n",
      "_________________________________________________________________\n"
     ]
    }
   ],
   "source": [
    "model = Sequential([\n",
    "    Conv2D(128, (5,5), activation=\"relu\", input_shape=(9,128,128), data_format=\"channels_first\")\n",
    "    , MaxPooling2D(data_format=\"channels_first\")\n",
    "    , Conv2D(64, (5,5), activation=\"relu\", data_format=\"channels_first\")\n",
    "    , MaxPooling2D(data_format=\"channels_first\")\n",
    "    , Flatten()\n",
    "    , Dense(20, activation=\"relu\")\n",
    "    , Dense(6, activation=\"softmax\")\n",
    "]\n",
    ")\n",
    "model.summary()\n",
    "model.compile(optimizer=opt.Adam(lr=0.003), loss=\"categorical_crossentropy\", metrics=[\"accuracy\"])"
   ]
  },
  {
   "cell_type": "markdown",
   "metadata": {
    "ExecuteTime": {
     "end_time": "2020-04-14T20:14:33.408120Z",
     "start_time": "2020-04-14T20:14:33.406119Z"
    }
   },
   "source": [
    "### Training the model"
   ]
  },
  {
   "cell_type": "code",
   "execution_count": 7,
   "metadata": {
    "ExecuteTime": {
     "end_time": "2020-04-14T21:19:53.719469Z",
     "start_time": "2020-04-14T21:15:01.304144Z"
    }
   },
   "outputs": [
    {
     "name": "stdout",
     "output_type": "stream",
     "text": [
      "Train on 7352 samples, validate on 2947 samples\n",
      "Epoch 1/15\n",
      "7352/7352 [==============================] - 20s 3ms/step - loss: 0.2153 - accuracy: 0.9251 - val_loss: 0.3241 - val_accuracy: 0.9169\n",
      "Epoch 2/15\n",
      "7352/7352 [==============================] - 20s 3ms/step - loss: 0.1492 - accuracy: 0.9361 - val_loss: 0.3084 - val_accuracy: 0.8863\n",
      "Epoch 3/15\n",
      "7352/7352 [==============================] - 20s 3ms/step - loss: 0.1323 - accuracy: 0.9433 - val_loss: 0.3146 - val_accuracy: 0.9220\n",
      "Epoch 4/15\n",
      "7352/7352 [==============================] - 19s 3ms/step - loss: 0.1519 - accuracy: 0.9402 - val_loss: 0.2435 - val_accuracy: 0.9196\n",
      "Epoch 5/15\n",
      "7352/7352 [==============================] - 19s 3ms/step - loss: 0.1223 - accuracy: 0.9513 - val_loss: 0.2154 - val_accuracy: 0.9382\n",
      "Epoch 6/15\n",
      "7352/7352 [==============================] - 19s 3ms/step - loss: 0.1663 - accuracy: 0.9421 - val_loss: 0.2488 - val_accuracy: 0.9348\n",
      "Epoch 7/15\n",
      "7352/7352 [==============================] - 19s 3ms/step - loss: 0.1157 - accuracy: 0.9502 - val_loss: 0.3758 - val_accuracy: 0.9277\n",
      "Epoch 8/15\n",
      "7352/7352 [==============================] - 19s 3ms/step - loss: 0.1215 - accuracy: 0.9505 - val_loss: 0.4223 - val_accuracy: 0.8962\n",
      "Epoch 9/15\n",
      "7352/7352 [==============================] - 20s 3ms/step - loss: 0.1537 - accuracy: 0.9470 - val_loss: 0.3275 - val_accuracy: 0.9267\n",
      "Epoch 10/15\n",
      "7352/7352 [==============================] - 20s 3ms/step - loss: 0.1028 - accuracy: 0.9527 - val_loss: 0.3369 - val_accuracy: 0.9138\n",
      "Epoch 11/15\n",
      "7352/7352 [==============================] - 19s 3ms/step - loss: 0.1162 - accuracy: 0.9546 - val_loss: 0.3100 - val_accuracy: 0.9247\n",
      "Epoch 12/15\n",
      "7352/7352 [==============================] - 19s 3ms/step - loss: 0.1181 - accuracy: 0.9566 - val_loss: 0.1866 - val_accuracy: 0.9467\n",
      "Epoch 13/15\n",
      "7352/7352 [==============================] - 19s 3ms/step - loss: 0.1015 - accuracy: 0.9567 - val_loss: 0.2592 - val_accuracy: 0.9253\n",
      "Epoch 14/15\n",
      "7352/7352 [==============================] - 20s 3ms/step - loss: 0.1036 - accuracy: 0.9569 - val_loss: 0.5232 - val_accuracy: 0.9186\n",
      "Epoch 15/15\n",
      "7352/7352 [==============================] - 19s 3ms/step - loss: 0.1326 - accuracy: 0.9542 - val_loss: 0.2047 - val_accuracy: 0.9352\n"
     ]
    }
   ],
   "source": [
    "train_output = model.fit(train_input, train_label\n",
    "                         , batch_size=16\n",
    "                         , epochs=15\n",
    "                         , validation_data=(test_input, test_label)\n",
    ")"
   ]
  },
  {
   "cell_type": "code",
   "execution_count": 15,
   "metadata": {
    "ExecuteTime": {
     "end_time": "2020-04-14T21:23:52.296428Z",
     "start_time": "2020-04-14T21:23:52.032197Z"
    }
   },
   "outputs": [
    {
     "data": {
      "image/png": "[encoded data removed]",
      "text/plain": [
       "<Figure size 432x288 with 1 Axes>"
      ]
     },
     "metadata": {
      "needs_background": "light"
     },
     "output_type": "display_data"
    },
    {
     "data": {
      "image/png": "[encoded data removed]",
      "text/plain": [
       "<Figure size 432x288 with 1 Axes>"
      ]
     },
     "metadata": {
      "needs_background": "light"
     },
     "output_type": "display_data"
    }
   ],
   "source": [
    "plt.title(\"Loss\")\n",
    "plt.plot(train_output.history[\"loss\"], label=\"train\")\n",
    "plt.plot(train_output.history[\"val_loss\"], label=\"test\")\n",
    "plt.legend()\n",
    "plt.show()\n",
    "plt.title(\"Accuracy\")\n",
    "plt.plot(train_output.history[\"accuracy\"], label=\"train\")\n",
    "plt.plot(train_output.history[\"val_accuracy\"], label=\"test\")\n",
    "plt.legend()\n",
    "plt.show()"
   ]
  },
  {
   "cell_type": "markdown",
   "metadata": {},
   "source": [
    "### Comment\n",
    "\n",
    "I basically got very lucky and started off a very high accuracy. This means my model started out well adapted and could be called a natural genius. The problem is it quickly overlearned because of that"
   ]
  },
  {
   "cell_type": "code",
   "execution_count": null,
   "metadata": {},
   "outputs": [],
   "source": []
  }
 ],
 "metadata": {
  "kernelspec": {
   "display_name": "Python 3",
   "language": "python",
   "name": "python3"
  },
  "language_info": {
   "codemirror_mode": {
    "name": "ipython",
    "version": 3
   },
   "file_extension": ".py",
   "mimetype": "text/x-python",
   "name": "python",
   "nbconvert_exporter": "python",
   "pygments_lexer": "ipython3",
   "version": "3.7.2"
  }
 },
 "nbformat": 4,
 "nbformat_minor": 4
}
