{
 "cells": [
  {
   "cell_type": "code",
   "execution_count": 53,
   "metadata": {
    "ExecuteTime": {
     "end_time": "2019-06-10T23:37:18.337016Z",
     "start_time": "2019-06-10T23:37:11.338031Z"
    }
   },
   "outputs": [
    {
     "name": "stdout",
     "output_type": "stream",
     "text": [
      "*** Introductory Examples for the NLTK Book ***\n",
      "Loading text1, ..., text9 and sent1, ..., sent9\n",
      "Type the name of the text or sentence to view it.\n",
      "Type: 'texts()' or 'sents()' to list the materials.\n",
      "text1: Moby Dick by Herman Melville 1851\n",
      "text2: Sense and Sensibility by Jane Austen 1811\n",
      "text3: The Book of Genesis\n",
      "text4: Inaugural Address Corpus\n",
      "text5: Chat Corpus\n",
      "text6: Monty Python and the Holy Grail\n",
      "text7: Wall Street Journal\n",
      "text8: Personals Corpus\n",
      "text9: The Man Who Was Thursday by G . K . Chesterton 1908\n"
     ]
    }
   ],
   "source": [
    "import random\n",
    "import matplotlib.pyplot as plt\n",
    "from nltk.book import * #24 and following\n",
    "from nltk import edit_distance\n"
   ]
  },
  {
   "cell_type": "markdown",
   "metadata": {},
   "source": [
    "### 31. For given S use k-means algorithm for clustering. Return pictures of clusters for k = 2, 3, 4, 5."
   ]
  },
  {
   "cell_type": "code",
   "execution_count": 50,
   "metadata": {
    "ExecuteTime": {
     "end_time": "2019-06-10T23:34:32.988571Z",
     "start_time": "2019-06-10T23:34:32.448092Z"
    }
   },
   "outputs": [
    {
     "data": {
      "image/png": "[encoded data removed]",
      "text/plain": [
       "<Figure size 432x288 with 1 Axes>"
      ]
     },
     "metadata": {
      "needs_background": "light"
     },
     "output_type": "display_data"
    },
    {
     "data": {
      "image/png": "[encoded data removed]",
      "text/plain": [
       "<Figure size 432x288 with 1 Axes>"
      ]
     },
     "metadata": {
      "needs_background": "light"
     },
     "output_type": "display_data"
    },
    {
     "data": {
      "image/png": "[encoded data removed]",
      "text/plain": [
       "<Figure size 432x288 with 1 Axes>"
      ]
     },
     "metadata": {
      "needs_background": "light"
     },
     "output_type": "display_data"
    },
    {
     "data": {
      "image/png": "[encoded data removed]",
      "text/plain": [
       "<Figure size 432x288 with 1 Axes>"
      ]
     },
     "metadata": {
      "needs_background": "light"
     },
     "output_type": "display_data"
    }
   ],
   "source": [
    "N = [2, 3, 4, 5]\n",
    "colours = ['r', 'g', 'b', 'k', 'c']\n",
    "points = [(1,1), (1,4), (1.1, 2), (1, 1.1)\n",
    "        , (1.2, 2.2), (5,1), (-1, -1), (-1, -4)\n",
    "        , (-5.1, -2.1), (-5.2, -0.9), (-5.1, -1.1), (-5, -1)\n",
    "        , (-6, -2), (-6.2, 2.1), (-5, 3), (-6, 3.1)\n",
    "        , (-5.5, 3.3)]\n",
    "def dist(a, b):\n",
    "    return ((a[0]-b[0])**2+((a[1]-b[1])**2)**0.5, a)\n",
    "def recenter(l):\n",
    "    if l == []:\n",
    "        return (random.uniform(-10, 10), random.uniform(-10, 10))\n",
    "    else:\n",
    "        a = [0, 0]\n",
    "        for i in l:\n",
    "            a[0] += i[0]\n",
    "            a[1] += i[1]\n",
    "        return (a[0]/len(l), a[1]/len(l))\n",
    "x = [point[0] for point in points]\n",
    "y = [point[1] for point in points]\n",
    "\n",
    "for i in N:\n",
    "    plt.figure(i)\n",
    "    centers = [(random.uniform(-10, 10), random.uniform(-10, 10)) for _ in range(i)]\n",
    "    clusters = {center:[] for center in centers} \n",
    "    for point in points:\n",
    "        tmp = [dist(center, point) for center in clusters.keys()]\n",
    "        tmp.sort(key=lambda x: x[0])\n",
    "        clusters[tmp[0][1]].append(point)\n",
    "        \n",
    "    for i in range(100):\n",
    "        newClusters = {}\n",
    "        for cluster in clusters.values():\n",
    "            newClusters[recenter(cluster)] = []\n",
    "        clusters = newClusters\n",
    "        for point in points:\n",
    "            tmp = [dist(center, point) for center in clusters.keys()]\n",
    "            tmp.sort(key=lambda x: x[0])\n",
    "            clusters[tmp[0][1]].append(point)\n",
    "                \n",
    "    for cluster in clusters.keys():\n",
    "        x = [point[0] for point in clusters[cluster]]\n",
    "        y = [point[1] for point in clusters[cluster]]\n",
    "        plt.scatter(x, y)"
   ]
  },
  {
   "cell_type": "markdown",
   "metadata": {
    "ExecuteTime": {
     "end_time": "2019-06-10T23:35:25.737168Z",
     "start_time": "2019-06-10T23:35:25.734165Z"
    }
   },
   "source": [
    "### 32. (use NLTK). Let Sl, S2, S3 be the sets of all words with at most 7 letters from textl, text 2, text 3, respectively. Let S = Sl U S2 IJ S3. Use any reasonable algorithm for clustering S (with edit distance). Return sizes of clusters for k = 2, 3, 10 clusters. \n"
   ]
  },
  {
   "cell_type": "code",
   "execution_count": 56,
   "metadata": {
    "ExecuteTime": {
     "end_time": "2019-06-10T23:37:48.470270Z",
     "start_time": "2019-06-10T23:37:48.375187Z"
    }
   },
   "outputs": [
    {
     "data": {
      "text/plain": [
       "12682"
      ]
     },
     "execution_count": 56,
     "metadata": {},
     "output_type": "execute_result"
    }
   ],
   "source": [
    "S1 = set(filter(lambda x: len(x)< 7, set(text1)))\n",
    "S2 = set(filter(lambda x: len(x)< 7, set(text2)))\n",
    "S3 = set(filter(lambda x: len(x)< 7, set(text3)))\n",
    "S = S1 | S2 | S3\n",
    "clusters = [[i] for i in S]\n",
    "while len(clusters) > 10:\n",
    "    a = ''\n",
    "    b = ''\n",
    "    d = 8\n",
    "    for i in clusters:\n",
    "        for j in clusters:\n",
    "            if i == j:\n",
    "                pass\n",
    "            else:\n",
    "                for ii in i:\n",
    "                    for jj in j:\n",
    "                        if edit_distance(ii,jj) < d:\n",
    "                            a = i\n",
    "                            b = j\n",
    "                            d = edit_distance(ii,jj)\n",
    "    clusters.remove(b)\n",
    "    clusters"
   ]
  }
 ],
 "metadata": {
  "kernelspec": {
   "display_name": "Python 3",
   "language": "python",
   "name": "python3"
  },
  "language_info": {
   "codemirror_mode": {
    "name": "ipython",
    "version": 3
   },
   "file_extension": ".py",
   "mimetype": "text/x-python",
   "name": "python",
   "nbconvert_exporter": "python",
   "pygments_lexer": "ipython3",
   "version": "3.7.2"
  }
 },
 "nbformat": 4,
 "nbformat_minor": 2
}
