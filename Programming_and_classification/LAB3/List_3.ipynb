{
 "cells": [
  {
   "cell_type": "markdown",
   "metadata": {},
   "source": [
    "## Imports"
   ]
  },
  {
   "cell_type": "code",
   "execution_count": null,
   "metadata": {
    "ExecuteTime": {
     "end_time": "2019-05-12T15:31:35.206267Z",
     "start_time": "2019-05-12T15:31:30.877Z"
    }
   },
   "outputs": [],
   "source": [
    "from bitstring import * #21\n",
    "from collections import Counter #23\n",
    "from nltk.book import * #24 and following\n",
    "from nltk import edit_distance"
   ]
  },
  {
   "cell_type": "markdown",
   "metadata": {},
   "source": [
    "## 21. For a given bitstring b list all bitstrings b', such that the Hamming distance between b and b' is equal 1. "
   ]
  },
  {
   "cell_type": "code",
   "execution_count": 3,
   "metadata": {
    "ExecuteTime": {
     "end_time": "2019-05-12T12:09:08.642861Z",
     "start_time": "2019-05-12T12:09:08.634855Z"
    }
   },
   "outputs": [
    {
     "name": "stdout",
     "output_type": "stream",
     "text": [
      "0b1111001\n",
      "0b0011001\n",
      "0b0101001\n",
      "0b0110001\n",
      "0b0111101\n",
      "0b0111011\n",
      "0b0111000\n"
     ]
    }
   ],
   "source": [
    "def f21(a: BitArray):\n",
    "    for idx, _ in enumerate(a):\n",
    "        a.invert(idx)\n",
    "        print(a)\n",
    "        a.invert(idx)\n",
    "\n",
    "\n",
    "f21(BitArray('0b0111001'))"
   ]
  },
  {
   "cell_type": "markdown",
   "metadata": {},
   "source": [
    "## 22. Construct a function that returns a Jaccard similarity for two sets. Beware that this function needs to check if at least one of the sets is nonempty. \n"
   ]
  },
  {
   "cell_type": "code",
   "execution_count": 17,
   "metadata": {
    "ExecuteTime": {
     "end_time": "2019-05-12T12:45:02.964165Z",
     "start_time": "2019-05-12T12:45:02.959161Z"
    }
   },
   "outputs": [
    {
     "data": {
      "text/plain": [
       "0.3333333333333333"
      ]
     },
     "execution_count": 17,
     "metadata": {},
     "output_type": "execute_result"
    }
   ],
   "source": [
    "def f22(a: set, b: set):\n",
    "    if len(a) or len(b):\n",
    "        return(len(set.intersection(a, b)) / len(set.union(a, b)))\n",
    "    else:\n",
    "        print('One of the sets is empty')\n",
    "\n",
    "\n",
    "f22({1, 2, 3}, {2})"
   ]
  },
  {
   "cell_type": "markdown",
   "metadata": {},
   "source": [
    "## 23. Construct a function that computes Jaccard similarity for two strings treated as bags of words. "
   ]
  },
  {
   "cell_type": "code",
   "execution_count": 87,
   "metadata": {
    "ExecuteTime": {
     "end_time": "2019-05-12T14:29:24.735171Z",
     "start_time": "2019-05-12T14:29:24.728165Z"
    }
   },
   "outputs": [
    {
     "data": {
      "text/plain": [
       "0.5"
      ]
     },
     "execution_count": 87,
     "metadata": {},
     "output_type": "execute_result"
    }
   ],
   "source": [
    "def f23(a: Counter, b: Counter):\n",
    "    if len(a) or len(b):\n",
    "        return(sum((a & b).values()) / sum((a | b).values())) #much like for sets, & and | return intersection and union\n",
    "    else:                                                     #Counters lack explicit methods tho\n",
    "        print('One of the bags is empty')\n",
    "\n",
    "\n",
    "a = Counter(a = 2, b = 3, c = 1, d = 1)\n",
    "b = Counter(a = 1, b = 2, c = 2)\n",
    "f23(a, b)"
   ]
  },
  {
   "cell_type": "markdown",
   "metadata": {},
   "source": [
    "### 24. (use NLTK) List all words in textl with edit distance from the word dog smaller than 4. Hint: you can safely reject all long words without computations (why?). \n",
    "\n"
   ]
  },
  {
   "cell_type": "code",
   "execution_count": 74,
   "metadata": {
    "ExecuteTime": {
     "end_time": "2019-05-12T14:01:52.407178Z",
     "start_time": "2019-05-12T14:01:52.185976Z"
    }
   },
   "outputs": [
    {
     "data": {
      "text/plain": [
       "['Dr', 'Ex', 'coil', 'aim', 'Its', 'g', 'ox', 'My', 'Gold', 'hogs']"
      ]
     },
     "execution_count": 74,
     "metadata": {},
     "output_type": "execute_result"
    }
   ],
   "source": [
    "words = set(text1)\n",
    "words = set(filter(lambda x: len(x)<7, words)) #reject strings longer than 6 since you need 4 operations to get to \n",
    "words = set(filter(lambda x: edit_distance('dog', x)<4, words))  # 7 characters anyway\n",
    "[words.pop() for _ in range(10)] # ten examples"
   ]
  },
  {
   "cell_type": "markdown",
   "metadata": {},
   "source": [
    "### 25. (use NLTK) Let textl - text 9 be bags of words. Compute similarity between all pairs of texts. "
   ]
  },
  {
   "cell_type": "code",
   "execution_count": 91,
   "metadata": {
    "ExecuteTime": {
     "end_time": "2019-05-12T14:33:47.468794Z",
     "start_time": "2019-05-12T14:33:46.615897Z"
    }
   },
   "outputs": [
    {
     "name": "stdout",
     "output_type": "stream",
     "text": [
      "1.00 0.38 0.13 0.34 0.08 0.04 0.18 0.01 0.23 \n",
      "0.38 1.00 0.21 0.39 0.13 0.06 0.26 0.02 0.35 \n",
      "0.13 0.21 1.00 0.18 0.17 0.13 0.20 0.04 0.32 \n",
      "0.34 0.39 0.18 1.00 0.11 0.06 0.29 0.02 0.27 \n",
      "0.08 0.13 0.17 0.11 1.00 0.15 0.13 0.06 0.20 \n",
      "0.04 0.06 0.13 0.06 0.15 1.00 0.07 0.10 0.12 \n",
      "0.18 0.26 0.20 0.29 0.13 0.07 1.00 0.03 0.29 \n",
      "0.01 0.02 0.04 0.02 0.06 0.10 0.03 1.00 0.03 \n",
      "0.23 0.35 0.32 0.27 0.20 0.12 0.29 0.03 1.00 \n"
     ]
    }
   ],
   "source": [
    "bags = []\n",
    "for text in [text1, text2, text3, text4, text5, text6, text7, text8, text9]:\n",
    "    bags.append(Counter(text))\n",
    "for bagy in bags:\n",
    "    for bagx in bags:\n",
    "        print(\"{0:.2f}\".format(f23(bagy, bagx)), end=' ')\n",
    "    print()"
   ]
  },
  {
   "cell_type": "markdown",
   "metadata": {
    "ExecuteTime": {
     "end_time": "2019-05-12T13:09:26.119895Z",
     "start_time": "2019-05-12T13:09:26.116894Z"
    }
   },
   "source": [
    "### 26. (use NLTK) Let us consider a metric space (S, d), where S is the set of words from textl and d is the Hamming distance. Find diameter of (S, d). "
   ]
  },
  {
   "cell_type": "code",
   "execution_count": 98,
   "metadata": {
    "ExecuteTime": {
     "end_time": "2019-05-12T15:38:40.916950Z",
     "start_time": "2019-05-12T15:38:40.861899Z"
    }
   },
   "outputs": [
    {
     "data": {
      "text/plain": [
       "19"
      ]
     },
     "execution_count": 98,
     "metadata": {},
     "output_type": "execute_result"
    }
   ],
   "source": [
    "words = list(set(text1))\n",
    "words.sort(key = len)\n",
    "len(words[-1]) - len(words[0])"
   ]
  },
  {
   "cell_type": "markdown",
   "metadata": {},
   "source": [
    "### 27. (use NLTK) Construct a dictionary that assigns each pair of consecutive words in textl the Jaccard similarity between them. "
   ]
  },
  {
   "cell_type": "code",
   "execution_count": 106,
   "metadata": {
    "ExecuteTime": {
     "end_time": "2019-05-12T16:06:06.721068Z",
     "start_time": "2019-05-12T16:06:02.723887Z"
    }
   },
   "outputs": [
    {
     "data": {
      "text/plain": [
       "[(('orphan', '.'), 0.0),\n",
       " (('another', 'orphan'), 0.625),\n",
       " (('found', 'another'), 0.2),\n",
       " (('missing', 'children'), 0.15384615384615385),\n",
       " (('her', 'missing'), 0.0),\n",
       " (('search', 'after'), 0.375),\n",
       " (('retracing', 'search'), 0.36363636363636365),\n",
       " (('her', 'retracing'), 0.2),\n",
       " (('cruising', 'Rachel'), 0.07692307692307693),\n",
       " (('-', 'cruising'), 0.0)]"
      ]
     },
     "execution_count": 106,
     "metadata": {},
     "output_type": "execute_result"
    }
   ],
   "source": [
    "words = list(text1)\n",
    "distances = {}\n",
    "for idx in range(len(words)-1):\n",
    "    distances.update({(words[idx], words[idx+1]): f23(Counter(words[idx]), Counter(words[idx+1]))})\n",
    "[distances.popitem() for _ in range(10)]"
   ]
  },
  {
   "cell_type": "markdown",
   "metadata": {
    "ExecuteTime": {
     "end_time": "2019-05-12T13:09:58.351927Z",
     "start_time": "2019-05-12T13:09:58.349927Z"
    }
   },
   "source": [
    "### 28.  (use NLTK). For two words v and w, let relative edit distance be the Levensthein distance between v and w divided by the sum of lengths v and w. Find two different words in text 2 with minimal relative edit distance. "
   ]
  },
  {
   "cell_type": "code",
   "execution_count": 117,
   "metadata": {
    "ExecuteTime": {
     "end_time": "2019-05-12T17:42:39.220887Z",
     "start_time": "2019-05-12T17:39:22.118770Z"
    }
   },
   "outputs": [
    {
     "name": "stdout",
     "output_type": "stream",
     "text": [
      "0.034482758620689655 ('representation', 'representations')\n"
     ]
    }
   ],
   "source": [
    "lowest_distance = float('Inf')\n",
    "lowest_pair = ((),)\n",
    "for word1 in set(text2):\n",
    "        for word2 in set(text2):\n",
    "            if word1 != word2: \n",
    "                if 1/(len(word1)+len(word2)) < lowest_distance:\n",
    "                    relativeed = edit_distance(word1, word2)/(len(word1)+len(word2))\n",
    "                    if  relativeed < lowest_distance:\n",
    "                        lowest_distance = relativeed\n",
    "                        lowest_pair = (word1, word2)\n",
    "print(lowest_distance, lowest_pair)"
   ]
  },
  {
   "cell_type": "markdown",
   "metadata": {},
   "source": [
    "### 29. For a given bitstring b and a natural number r list all bitstrings b', such that the Hamming distance between b and b' is equal n. "
   ]
  },
  {
   "cell_type": "code",
   "execution_count": 166,
   "metadata": {
    "ExecuteTime": {
     "end_time": "2019-05-12T19:43:00.423900Z",
     "start_time": "2019-05-12T19:43:00.416894Z"
    }
   },
   "outputs": [
    {
     "name": "stdout",
     "output_type": "stream",
     "text": [
      "0b100111\n",
      "0b000110\n",
      "0b000101\n",
      "0b000011\n",
      "0b001111\n",
      "0b010111\n"
     ]
    }
   ],
   "source": [
    "def genMasks(n: int, k: int):\n",
    "    masks = [[0], [1]]\n",
    "    while len(masks[0]) < n:\n",
    "        tmp = []\n",
    "        for mask in masks:\n",
    "            one = mask + [1]\n",
    "            zero = mask + [0]\n",
    "            tmp += [one]\n",
    "            tmp += [zero]\n",
    "        for mask in masks:\n",
    "            masks.remove(mask)\n",
    "        masks = tmp\n",
    "    return list(filter(lambda x: sum(x) == k, masks))\n",
    "\n",
    "def f29(a: BitArray, n: int):\n",
    "    masks = genMasks(len(a), n)\n",
    "    for mask in masks:\n",
    "        print(a ^ BitArray(mask ))\n",
    "f29(BitArray('0b111000'), 5)"
   ]
  },
  {
   "cell_type": "markdown",
   "metadata": {},
   "source": [
    "### 30.  Construct a function that for a given string and a natural number k returns a set of all its k-shingles. "
   ]
  },
  {
   "cell_type": "code",
   "execution_count": 81,
   "metadata": {
    "ExecuteTime": {
     "end_time": "2019-05-12T14:11:10.142315Z",
     "start_time": "2019-05-12T14:11:10.138311Z"
    }
   },
   "outputs": [
    {
     "data": {
      "text/plain": [
       "{' st', 'Tes', 'est', 'rin', 'st ', 'str', 't s', 'tri'}"
      ]
     },
     "execution_count": 81,
     "metadata": {},
     "output_type": "execute_result"
    }
   ],
   "source": [
    "def f30(text: str, k: int):\n",
    "    return set([text[i:i+k] for i in range(len(text)-k)])\n",
    "\n",
    "f30('Test string', 3)"
   ]
  }
 ],
 "metadata": {
  "kernelspec": {
   "display_name": "Python 3",
   "language": "python",
   "name": "python3"
  },
  "language_info": {
   "codemirror_mode": {
    "name": "ipython",
    "version": 3
   },
   "file_extension": ".py",
   "mimetype": "text/x-python",
   "name": "python",
   "nbconvert_exporter": "python",
   "pygments_lexer": "ipython3",
   "version": "3.7.2"
  }
 },
 "nbformat": 4,
 "nbformat_minor": 2
}
