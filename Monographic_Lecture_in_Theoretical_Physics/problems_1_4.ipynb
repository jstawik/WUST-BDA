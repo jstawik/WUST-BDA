{
 "cells": [
  {
   "cell_type": "markdown",
   "metadata": {},
   "source": [
    "### Imports"
   ]
  },
  {
   "cell_type": "code",
   "execution_count": 2,
   "metadata": {},
   "outputs": [],
   "source": [
    "import numpy as np\n",
    "import matplotlib.pyplot as plt"
   ]
  },
  {
   "cell_type": "markdown",
   "metadata": {},
   "source": [
    "### Horizontal motion with friction (static and dynamic) "
   ]
  },
  {
   "cell_type": "code",
   "execution_count": 58,
   "metadata": {},
   "outputs": [
    {
     "data": {
      "image/png": "[encoded data removed]",
      "text/plain": [
       "<Figure size 432x288 with 1 Axes>"
      ]
     },
     "metadata": {
      "needs_background": "light"
     },
     "output_type": "display_data"
    }
   ],
   "source": [
    "M = 1\n",
    "const_g = 9.81\n",
    "mi_k = .2\n",
    "mi_s = .1\n",
    "omega  = 2\n",
    "delta = .01\n",
    "epsilon = .009\n",
    "ts = np.arange(0,10*np.pi/omega,delta)\n",
    "f_0 = 2\n",
    "force = f_0 * np.sin(omega*ts) \n",
    "\n",
    "init_x, init_v = 0, 0\n",
    "x, v = init_x, init_v\n",
    "xs, vs = [], []\n",
    "for idx, t in enumerate(ts):\n",
    "    if -epsilon < v and epsilon > v and force[idx]<M*mi_s:\n",
    "        xs.append(x)\n",
    "        vs.append(0)\n",
    "    else:\n",
    "        v = v + (force[idx]-mi_k*M*np.sign(v))*delta\n",
    "        x = x + v * delta\n",
    "        xs.append(x)\n",
    "        vs.append(v)\n",
    "    \n",
    "plt.plot(xs, label=\"higher_eps\");\n",
    "\n",
    "M = 1\n",
    "const_g = 9.81\n",
    "mi_k = .2\n",
    "mi_s = .1\n",
    "omega  = 2\n",
    "delta = .01\n",
    "epsilon = .00742\n",
    "ts = np.arange(0,10*np.pi/omega,delta)\n",
    "f_0 = 2\n",
    "force = f_0 * np.sin(omega*ts) \n",
    "\n",
    "init_x, init_v = 0, 0\n",
    "x, v = init_x, init_v\n",
    "xs, vs = [], []\n",
    "for idx, t in enumerate(ts):\n",
    "    if -epsilon < v and epsilon > v and force[idx]<M*mi_s:\n",
    "        xs.append(x)\n",
    "        vs.append(0)\n",
    "    else:\n",
    "        v = v + (force[idx]-mi_k*M*np.sign(v))*delta\n",
    "        x = x + v * delta\n",
    "        xs.append(x)\n",
    "        vs.append(v)\n",
    "        \n",
    "plt.plot(xs, label=\"medium_eps\")\n",
    "\n",
    "M = 1\n",
    "const_g = 9.81\n",
    "mi_k = .2\n",
    "mi_s = .1\n",
    "omega  = 2\n",
    "delta = .01\n",
    "epsilon = .001\n",
    "ts = np.arange(0,10*np.pi/omega,delta)\n",
    "f_0 = 2\n",
    "force = f_0 * np.sin(omega*ts) \n",
    "\n",
    "init_x, init_v = 0, 0\n",
    "x, v = init_x, init_v\n",
    "xs, vs = [], []\n",
    "for idx, t in enumerate(ts):\n",
    "    if -epsilon < v and epsilon > v and force[idx]<M*mi_s:\n",
    "        xs.append(x)\n",
    "        vs.append(0)\n",
    "    else:\n",
    "        v = v + (force[idx]-mi_k*M*np.sign(v))*delta\n",
    "        x = x + v * delta\n",
    "        xs.append(x)\n",
    "        vs.append(v)\n",
    "        \n",
    "plt.plot(xs, label=\"low_eps\")\n",
    "plt.legend();"
   ]
  },
  {
   "cell_type": "code",
   "execution_count": null,
   "metadata": {},
   "outputs": [],
   "source": []
  }
 ],
 "metadata": {
  "kernelspec": {
   "display_name": "Python 3",
   "language": "python",
   "name": "python3"
  },
  "language_info": {
   "codemirror_mode": {
    "name": "ipython",
    "version": 3
   },
   "file_extension": ".py",
   "mimetype": "text/x-python",
   "name": "python",
   "nbconvert_exporter": "python",
   "pygments_lexer": "ipython3",
   "version": "3.8.2"
  }
 },
 "nbformat": 4,
 "nbformat_minor": 4
}
