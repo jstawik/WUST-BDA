{
 "cells": [
  {
   "cell_type": "code",
   "execution_count": 1,
   "metadata": {},
   "outputs": [],
   "source": [
    "import numpy as np\n",
    "import matplotlib.pyplot as plt"
   ]
  },
  {
   "cell_type": "code",
   "execution_count": 2,
   "metadata": {},
   "outputs": [],
   "source": [
    "class Simulation:\n",
    "    def __init__(self, l: int, T: int):\n",
    "        self.lattice = np.full((l, l), fill_value=1, dtype=int)\n",
    "        self.bound = l\n",
    "        self.temp = T\n",
    "\n",
    "    def trial(self, idr, idc):\n",
    "        energy_diff = sum([self.lattice[idr-1][idc], self.lattice[(idr+1) % self.bound][idc],\n",
    "                           self.lattice[idr][idc-1], self.lattice[idr][(idc+1) % self.bound]])  \\\n",
    "                      * 2 * self.lattice[idr, idc]\n",
    "        if np.exp(-energy_diff/self.temp) > np.random.rand():\n",
    "            return True\n",
    "        else:\n",
    "            return False\n",
    "\n",
    "    def mcs(self):\n",
    "        for idr, row in enumerate(self.lattice):\n",
    "            for idc, field in enumerate(row):\n",
    "                if self.trial(idr, idc):\n",
    "                    self.lattice[idr, idc] *= -1"
   ]
  },
  {
   "cell_type": "code",
   "execution_count": 3,
   "metadata": {},
   "outputs": [],
   "source": [
    "Tc = 2.26918531421"
   ]
  },
  {
   "cell_type": "code",
   "execution_count": 5,
   "metadata": {},
   "outputs": [
    {
     "data": {
      "image/png": "[encoded data removed]",
      "text/plain": [
       "<Figure size 432x288 with 1 Axes>"
      ]
     },
     "metadata": {
      "needs_background": "light"
     },
     "output_type": "display_data"
    }
   ],
   "source": [
    "#########  1\n",
    "T = [1.5, Tc, 4]\n",
    "L = [50]\n",
    "for t in T:\n",
    "    for l in L:\n",
    "        sym = Simulation(l, t)\n",
    "        for _ in range(500): sym.mcs()\n",
    "    plt.imshow(sym.lattice, aspect='auto', interpolation='none', origin='lower')\n",
    "    plt.title(f'T = {t}')         \n",
    "    plt.savefig(f'{l}-{t}.png')\n"
   ]
  },
  {
   "cell_type": "code",
   "execution_count": 37,
   "metadata": {},
   "outputs": [
    {
     "data": {
      "image/png": "[encoded data removed]",
      "text/plain": [
       "<Figure size 432x288 with 2 Axes>"
      ]
     },
     "metadata": {
      "needs_background": "light"
     },
     "output_type": "display_data"
    }
   ],
   "source": [
    "#########  2\n",
    "sym = Simulation(10, 1.8)\n",
    "for _ in range(500): sym.mcs()\n",
    "tmp = np.array(sym.lattice)\n",
    "sym.mcs()\n",
    "flip = np.absolute((sym.lattice-tmp)/2)\n",
    "plt.imshow(flip, aspect='auto', interpolation='none', origin='lower')\n",
    "plt.title(f'flip @ T = 1.8')         \n",
    "plt.savefig(f'flip.png')\n",
    "for _ in range(20):\n",
    "    tmp = np.array(sym.lattice)\n",
    "    sym.mcs()\n",
    "    flip += np.absolute((sym.lattice - tmp)/2)\n",
    "plt.imshow(flip, aspect='auto', interpolation='none', origin='lower')\n",
    "plt.colorbar()\n",
    "plt.title(f'flips @ T = 1.8')         \n",
    "plt.savefig(f'flips.png')"
   ]
  },
  {
   "cell_type": "code",
   "execution_count": null,
   "metadata": {},
   "outputs": [],
   "source": [
    "#########  3\n",
    "T = [t*Tc for t in np.arange(.4, 5, .2)]\n",
    "L = [10, 50, 100]\n",
    "def mean_energy(lat, bound):\n",
    "    tmp = 0\n",
    "    for idr, row in enumerate(lat):\n",
    "            for idc, field in enumerate(row):\n",
    "                tmp += field * sum([lat[idr-1][idc], lat[(idr+1) % bound][idc], lat[idr][idc-1], lat[idr][(idc+1) % bound]])  \n",
    "    return tmp/2\n",
    "\n",
    "def mean_energy2(lat, bound):\n",
    "    tmp = 0\n",
    "    for idr, row in enumerate(lat):\n",
    "            for idc, field in enumerate(row):\n",
    "                tmp += (field * sum([lat[idr-1][idc], lat[(idr+1) % bound][idc], lat[idr][idc-1], lat[idr][(idc+1) % bound]]))**2  \n",
    "    return tmp/2\n",
    "\n",
    "for l in L:\n",
    "    values = []\n",
    "    for t in T:\n",
    "        sym = Simulation(l, t)\n",
    "        for _ in range(1000): sym.mcs()\n",
    "        avg_mag = np.mean(sym.lattice)\n",
    "        avg_energy = mean_energy(sym.lattice, l)/l**2\n",
    "        susceptibility = l**2/t*(np.mean(np.square(sym.lattice)) - avg_mag**2)\n",
    "        heat = 1/(l**2*t**2) * (mean_energy2(sym.lattice, l) - mean_energy(sym.lattice, l)**2)\n",
    "        values.append([t, avg_mag, avg_energy, susceptibility, heat])\n",
    "    values = np.array(values)\n",
    "    labels = ['magnetization', 'energy', 'susceptibility', 'heat capacity']\n",
    "    for i in range(4):\n",
    "        plt.scatter(values[:,0], values[:,i], label=labels[i])\n",
    "    plt.legend()\n",
    "    plt.savefig(f'3-{l}.png')"
   ]
  },
  {
   "cell_type": "code",
   "execution_count": null,
   "metadata": {},
   "outputs": [],
   "source": []
  }
 ],
 "metadata": {
  "kernelspec": {
   "display_name": "Python 3",
   "language": "python",
   "name": "python3"
  },
  "language_info": {
   "codemirror_mode": {
    "name": "ipython",
    "version": 3
   },
   "file_extension": ".py",
   "mimetype": "text/x-python",
   "name": "python",
   "nbconvert_exporter": "python",
   "pygments_lexer": "ipython3",
   "version": "3.7.2"
  }
 },
 "nbformat": 4,
 "nbformat_minor": 2
}
